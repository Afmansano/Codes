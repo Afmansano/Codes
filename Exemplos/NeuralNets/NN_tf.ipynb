{
 "cells": [
  {
   "cell_type": "markdown",
   "metadata": {},
   "source": [
    "Nesse exemplo vamos criar um modelo capaz de classificar dígitos escritos a mão. Portanto, vamos usar a base de dados MNIST, que consiste de imagens como as abaixo:"
   ]
  },
  {
   "cell_type": "markdown",
   "metadata": {},
   "source": [
    "<img src='imagens/mnist.png' width=\"200\">"
   ]
  },
  {
   "cell_type": "code",
   "execution_count": 1,
   "metadata": {
    "collapsed": true
   },
   "outputs": [],
   "source": [
    "import tensorflow as tf\n",
    "import matplotlib.pyplot as plt\n",
    "from tensorflow.contrib.layers import fully_connected\n",
    "from tensorflow.examples.tutorials.mnist import input_data"
   ]
  },
  {
   "cell_type": "markdown",
   "metadata": {},
   "source": [
    "Vamos baixar e carregar a base de dados mnist dos exemplos do tensorflow"
   ]
  },
  {
   "cell_type": "code",
   "execution_count": 2,
   "metadata": {},
   "outputs": [
    {
     "name": "stdout",
     "output_type": "stream",
     "text": [
      "Successfully downloaded train-images-idx3-ubyte.gz 9912422 bytes.\n",
      "Extracting /tmp/data/train-images-idx3-ubyte.gz\n",
      "Successfully downloaded train-labels-idx1-ubyte.gz 28881 bytes.\n",
      "Extracting /tmp/data/train-labels-idx1-ubyte.gz\n",
      "Successfully downloaded t10k-images-idx3-ubyte.gz 1648877 bytes.\n",
      "Extracting /tmp/data/t10k-images-idx3-ubyte.gz\n",
      "Successfully downloaded t10k-labels-idx1-ubyte.gz 4542 bytes.\n",
      "Extracting /tmp/data/t10k-labels-idx1-ubyte.gz\n"
     ]
    }
   ],
   "source": [
    "mnist = input_data.read_data_sets(\"/tmp/data/\")"
   ]
  },
  {
   "cell_type": "markdown",
   "metadata": {},
   "source": [
    "Cada imagem pode ser vista como um vetor de 28x28 = 784 números, sendo cada uma um ponto no espaço 784-dimensional"
   ]
  },
  {
   "cell_type": "markdown",
   "metadata": {},
   "source": [
    "Vamos dar uma olhada nas imagens. Para isso vamos carregar um exemplo de treinamento e imprimir o vetor."
   ]
  },
  {
   "cell_type": "code",
   "execution_count": 3,
   "metadata": {},
   "outputs": [
    {
     "name": "stdout",
     "output_type": "stream",
     "text": [
      "[ 0.          0.          0.          0.          0.          0.          0.\n",
      "  0.          0.          0.          0.          0.          0.          0.\n",
      "  0.          0.          0.          0.          0.          0.          0.\n",
      "  0.          0.          0.          0.          0.          0.          0.\n",
      "  0.          0.          0.          0.          0.          0.          0.\n",
      "  0.          0.          0.          0.          0.          0.          0.\n",
      "  0.          0.          0.          0.          0.          0.          0.\n",
      "  0.          0.          0.          0.          0.          0.          0.\n",
      "  0.          0.          0.          0.          0.          0.          0.\n",
      "  0.          0.          0.          0.          0.          0.          0.\n",
      "  0.          0.          0.          0.          0.          0.          0.\n",
      "  0.          0.          0.          0.          0.          0.          0.\n",
      "  0.          0.          0.          0.          0.          0.          0.\n",
      "  0.          0.          0.          0.          0.          0.          0.\n",
      "  0.          0.          0.          0.          0.          0.          0.\n",
      "  0.          0.          0.          0.          0.          0.          0.\n",
      "  0.          0.          0.          0.          0.          0.          0.\n",
      "  0.          0.          0.          0.          0.          0.          0.\n",
      "  0.          0.          0.          0.          0.          0.          0.\n",
      "  0.          0.          0.          0.          0.          0.          0.\n",
      "  0.          0.          0.          0.          0.          0.          0.\n",
      "  0.          0.          0.          0.          0.          0.          0.\n",
      "  0.          0.          0.3019608   0.99607849  0.41960788  0.01176471\n",
      "  0.          0.          0.          0.          0.          0.          0.\n",
      "  0.          0.          0.          0.          0.          0.          0.\n",
      "  0.          0.          0.          0.          0.          0.          0.\n",
      "  0.          0.          0.07450981  0.89019614  0.99607849  0.99607849\n",
      "  0.03529412  0.          0.          0.          0.          0.          0.\n",
      "  0.          0.          0.          0.          0.          0.          0.\n",
      "  0.          0.          0.          0.          0.          0.          0.\n",
      "  0.          0.          0.          0.31764707  0.99607849  0.99607849\n",
      "  0.64705884  0.00392157  0.          0.          0.          0.          0.\n",
      "  0.          0.          0.          0.          0.          0.          0.\n",
      "  0.          0.          0.          0.          0.          0.          0.\n",
      "  0.          0.          0.          0.02745098  0.7960785   0.99607849\n",
      "  0.99607849  0.28627452  0.          0.          0.          0.          0.\n",
      "  0.          0.          0.          0.          0.          0.          0.\n",
      "  0.          0.          0.          0.          0.          0.          0.\n",
      "  0.          0.          0.          0.          0.20784315  0.99607849\n",
      "  0.99607849  0.98039222  0.          0.          0.          0.          0.\n",
      "  0.          0.          0.          0.          0.          0.          0.\n",
      "  0.          0.          0.          0.          0.          0.          0.\n",
      "  0.          0.          0.          0.          0.          0.52549022\n",
      "  0.99607849  0.99607849  0.70588237  0.          0.          0.          0.\n",
      "  0.          0.          0.          0.          0.          0.          0.\n",
      "  0.          0.          0.          0.          0.          0.          0.\n",
      "  0.          0.          0.          0.          0.          0.\n",
      "  0.76862752  0.99607849  0.97254908  0.18823531  0.          0.          0.\n",
      "  0.          0.          0.          0.          0.          0.          0.\n",
      "  0.          0.          0.          0.          0.          0.          0.\n",
      "  0.          0.          0.          0.          0.          0.          0.227451\n",
      "  0.99607849  0.99607849  0.92941183  0.          0.          0.          0.\n",
      "  0.          0.          0.          0.          0.          0.          0.\n",
      "  0.          0.          0.          0.          0.          0.          0.\n",
      "  0.          0.          0.          0.          0.          0.\n",
      "  0.43529415  0.99607849  0.99607849  0.51764709  0.          0.          0.\n",
      "  0.          0.          0.          0.          0.          0.          0.\n",
      "  0.          0.          0.          0.          0.          0.          0.\n",
      "  0.          0.          0.          0.          0.          0.          0.\n",
      "  0.63921571  0.99607849  0.9333334   0.10980393  0.          0.          0.\n",
      "  0.          0.          0.          0.          0.          0.          0.\n",
      "  0.          0.          0.          0.          0.          0.          0.\n",
      "  0.          0.          0.          0.          0.          0.\n",
      "  0.23529413  0.98823535  0.99607849  0.87450987  0.          0.          0.\n",
      "  0.          0.          0.          0.          0.          0.          0.\n",
      "  0.          0.          0.          0.          0.          0.          0.\n",
      "  0.          0.          0.          0.          0.          0.          0.\n",
      "  0.30980393  0.99607849  0.99607849  0.60392159  0.          0.          0.\n",
      "  0.          0.          0.          0.          0.          0.          0.\n",
      "  0.          0.          0.          0.          0.          0.          0.\n",
      "  0.          0.          0.          0.          0.          0.          0.\n",
      "  0.63921571  0.99607849  0.9333334   0.20784315  0.          0.          0.\n",
      "  0.          0.          0.          0.          0.          0.          0.\n",
      "  0.          0.          0.          0.          0.          0.          0.\n",
      "  0.          0.          0.          0.          0.          0.\n",
      "  0.10980393  0.98823535  0.99607849  0.82352948  0.          0.          0.\n",
      "  0.          0.          0.          0.          0.          0.          0.\n",
      "  0.          0.          0.          0.          0.          0.          0.\n",
      "  0.          0.          0.          0.          0.          0.          0.\n",
      "  0.33725491  0.99607849  0.99607849  0.51372552  0.          0.          0.\n",
      "  0.          0.          0.          0.          0.          0.          0.\n",
      "  0.          0.          0.          0.          0.          0.          0.\n",
      "  0.          0.          0.          0.          0.          0.          0.\n",
      "  0.41176474  0.99607849  0.91764712  0.07843138  0.          0.          0.\n",
      "  0.          0.          0.          0.          0.          0.          0.\n",
      "  0.          0.          0.          0.          0.          0.          0.\n",
      "  0.          0.          0.          0.          0.          0.          0.\n",
      "  0.68627453  0.99607849  0.80000007  0.01960784  0.          0.          0.\n",
      "  0.          0.          0.          0.          0.          0.          0.\n",
      "  0.          0.          0.          0.          0.          0.          0.\n",
      "  0.          0.          0.          0.          0.          0.\n",
      "  0.01960784  0.82745105  0.99607849  0.76862752  0.          0.          0.\n",
      "  0.          0.          0.          0.          0.          0.          0.\n",
      "  0.          0.          0.          0.          0.          0.          0.\n",
      "  0.          0.          0.          0.          0.          0.          0.\n",
      "  0.01176471  0.61960787  0.99607849  0.627451    0.          0.          0.\n",
      "  0.          0.          0.          0.          0.          0.          0.\n",
      "  0.          0.          0.          0.          0.          0.          0.\n",
      "  0.          0.          0.          0.          0.          0.          0.\n",
      "  0.          0.10196079  0.6156863   0.41960788  0.          0.          0.\n",
      "  0.          0.          0.          0.          0.          0.          0.\n",
      "  0.          0.          0.          0.          0.          0.          0.\n",
      "  0.          0.          0.          0.          0.          0.          0.\n",
      "  0.          0.          0.          0.          0.          0.          0.\n",
      "  0.          0.          0.          0.          0.          0.          0.\n",
      "  0.          0.          0.          0.          0.          0.          0.\n",
      "  0.          0.          0.          0.          0.          0.          0.\n",
      "  0.          0.          0.          0.          0.          0.          0.\n",
      "  0.          0.          0.          0.          0.          0.          0.\n",
      "  0.          0.          0.          0.          0.          0.          0.\n",
      "  0.          0.          0.          0.          0.          0.          0.\n",
      "  0.          0.          0.          0.          0.          0.          0.\n",
      "  0.          0.          0.          0.          0.          0.          0.\n",
      "  0.          0.          0.          0.        ]\n"
     ]
    }
   ],
   "source": [
    "x = mnist.test.images[5]\n",
    "print(x)"
   ]
  },
  {
   "cell_type": "markdown",
   "metadata": {},
   "source": [
    "Observe que temos uma sequencia de 784 numeros, sendo a maioria 0. Esses são os valores de cada pixel da imagem, entre 0 e 1. Para podermos \"desenhá-los\" temos que usar o método reshape() para tranformar nosso vetor em 2 dimensões."
   ]
  },
  {
   "cell_type": "code",
   "execution_count": 4,
   "metadata": {},
   "outputs": [
    {
     "data": {
      "text/plain": [
       "<matplotlib.image.AxesImage at 0x27e34b3d588>"
      ]
     },
     "execution_count": 4,
     "metadata": {},
     "output_type": "execute_result"
    },
    {
     "data": {
      "image/png": "[encoded data removed]",
      "text/plain": [
       "<matplotlib.figure.Figure at 0x27e3144ec88>"
      ]
     },
     "metadata": {},
     "output_type": "display_data"
    }
   ],
   "source": [
    "%matplotlib inline\n",
    "x_img = x.reshape([28, 28])\n",
    "plt.gray()\n",
    "plt.imshow(x_img)"
   ]
  },
  {
   "cell_type": "code",
   "execution_count": 5,
   "metadata": {},
   "outputs": [
    {
     "name": "stdout",
     "output_type": "stream",
     "text": [
      "1\n"
     ]
    }
   ],
   "source": [
    "y = mnist.test.labels[5]\n",
    "print(y)"
   ]
  },
  {
   "cell_type": "markdown",
   "metadata": {},
   "source": [
    "Para começarmos a construir nossmo modelo, vamos definir o tamanho de cada camada da rede. No nosso exemplo vamos utilizar duas camadas ocultas: \n",
    "    <ul>\n",
    "        <li><b>Camada 1</b>: com 300 neurônios</li>\n",
    "        <li><b>Camada 2</b>: com 100 neurônios</li>\n",
    "        <li><b>10 outputs</b>: um para cada classe (0, 1,..., 9) </li>\n",
    "        <li><b>28x28 inputs</b>: imagem de 28x28 pixels</li>\n",
    "    </ul>"
   ]
  },
  {
   "cell_type": "code",
   "execution_count": 6,
   "metadata": {
    "collapsed": true
   },
   "outputs": [],
   "source": [
    "n_inputs = 28*28\n",
    "n_hidden1 = 300\n",
    "n_hidden2 = 100\n",
    "n_outputs = 10"
   ]
  },
  {
   "cell_type": "markdown",
   "metadata": {},
   "source": [
    "Para enviarmos inputs externos ao modelo devemos criar os <b>placeholders</b>, que nada mais é que o valor que passaremos ao tensoflow quando executarmos o processo. <br>\n",
    "Como entrada temos dois tensores: os valores de X, ou seja, os vetores de características de cada imagem e os valores de Y, que são os rótulos para cada uma delas"
   ]
  },
  {
   "cell_type": "code",
   "execution_count": 7,
   "metadata": {
    "collapsed": true
   },
   "outputs": [],
   "source": [
    "X = tf.placeholder(tf.float32, shape=(None, n_inputs), name=\"X\")\n",
    "y = tf.placeholder(tf.int64, shape=(None), name=\"y\")"
   ]
  },
  {
   "cell_type": "markdown",
   "metadata": {},
   "source": [
    "Ao definirmos as dimensões dos tensores como (None, n_inputs) estamos falando que queremos um tensor de forma (tamanho qualquer necessário, 784), uma vez que o número de linhas é definido pelo número de exemplos no treinamento, porém o tamanho do vetor de característica já está definido como 784"
   ]
  },
  {
   "cell_type": "markdown",
   "metadata": {},
   "source": [
    "O tensorflow nos permite agrupar varíaveis relacionadas para facilitar o trabalho em modelos complexos, criado um escopo ao qual cada uma pertence. Neste exemplo vamos agrupá-las de acordo com: variáveis das camadas da rede (dnn), variáveis de otimização (loss), variáveis de treinamento (train) e de teste (test)"
   ]
  },
  {
   "cell_type": "markdown",
   "metadata": {},
   "source": [
    "Abaixo criamos as camadas da rede, note que utilizamos os objetos fully_connected, do pacote contrib, o qual já cria os neurônios, funções de ativação e conexões para minha rede neural. Veja também que a camada anterior vira entrada para a camada seguinte é a última camada antes de passar pela função de ativação, que será uma softmax para gerar distribuição de probabilidade"
   ]
  },
  {
   "cell_type": "markdown",
   "metadata": {},
   "source": [
    "Por motivos de otimização não utilizamos a softmax durante o processo de treinamento, uma vez que a função de loss utilizada lida apenas com os logits(entrada da softmax) https://www.tensorflow.org/api_docs/python/tf/nn/softmax_cross_entropy_with_logits "
   ]
  },
  {
   "cell_type": "code",
   "execution_count": 8,
   "metadata": {
    "collapsed": true
   },
   "outputs": [],
   "source": [
    "with tf.name_scope(\"dnn\"):\n",
    "    hidden1 = fully_connected(X, n_hidden1, scope=\"hidden1\")\n",
    "    hidden2 = fully_connected(hidden1, n_hidden2, scope=\"hidden2\")\n",
    "    logits = fully_connected(hidden2, n_outputs, scope=\"outputs\", activation_fn=None)"
   ]
  },
  {
   "cell_type": "markdown",
   "metadata": {},
   "source": [
    "Para treinarmos um modelo, devemos indicar para o computador o que significa uma classificação boa uma ruim, matematicamente isto é representado por uma função de custo, ou loss, que indica o quão distante nossa predição está do desejado."
   ]
  },
  {
   "cell_type": "markdown",
   "metadata": {},
   "source": [
    "Utilizamos a função de loss cross-entropy, uma vez que estamos tratando de um problema de classificação, que é definida por:\n",
    "\n",
    "$H_{y'}(y) = -\\sum_{i}{y_i'log(y_i)}$\n",
    "\n",
    "onde $y'$ é a distribuição predita e $y$ é a verdadeira distribuição"
   ]
  },
  {
   "cell_type": "markdown",
   "metadata": {},
   "source": [
    "A nossa loss por iteração é a média das losses de cada exemplo/batch"
   ]
  },
  {
   "cell_type": "code",
   "execution_count": 9,
   "metadata": {
    "collapsed": true
   },
   "outputs": [],
   "source": [
    "with tf.name_scope(\"loss\"):\n",
    "    xentropy = tf.nn.sparse_softmax_cross_entropy_with_logits(\n",
    "                    labels=y, logits=logits)\n",
    "    loss = tf.reduce_mean(xentropy, name=\"loss\")"
   ]
  },
  {
   "cell_type": "markdown",
   "metadata": {},
   "source": [
    "Já montamos a estrutura da rede e definimos nossa função de custo, agora vamos configurar o treinamento da nossa rede neural. O tensorflow já possui um método para realizar a otimização de nossa função de custo por meio do Gradiente Descendente <br>\n",
    "Setamos nosso optimizer para minimizar a função de custo (loss) definida anteriormente"
   ]
  },
  {
   "cell_type": "code",
   "execution_count": 10,
   "metadata": {
    "collapsed": true
   },
   "outputs": [],
   "source": [
    "learning_rate = 0.1\n",
    "with tf.name_scope(\"train\"):\n",
    "    optimizer = tf.train.GradientDescentOptimizer(learning_rate)\n",
    "    training_op = optimizer.minimize(loss)"
   ]
  },
  {
   "cell_type": "markdown",
   "metadata": {},
   "source": [
    "O próximo passo é construir o processo de avaliação. Note que nossa marcação de acertos utiliza o método in_top_k(), que quer dizer \"se o classe real está entre os k primeiros (mais prováveis) que meu modelo previu, está correto\". Como o que nos importa é se acertamos a mais provável, enviamos o valor 1 para a função, definindo um top 1. <br>\n",
    "Por fim, nossa acurácia (taxa de acerto) é a média de quantos acertamos pelo total."
   ]
  },
  {
   "cell_type": "code",
   "execution_count": 11,
   "metadata": {
    "collapsed": true
   },
   "outputs": [],
   "source": [
    "with tf.name_scope(\"eval\"):\n",
    "    correct = tf.nn.in_top_k(logits, y, 1)\n",
    "    accuracy = tf.reduce_mean(tf.cast(correct, tf.float32))"
   ]
  },
  {
   "cell_type": "markdown",
   "metadata": {},
   "source": [
    "Agora devemos executar o grafo (processos) criado pelo tensroflow. Para isso devemos inicializar nossas variáveis e definirmos uma sessão.<br>\n",
    "Feito isso, executamos o processo de aprendizado (minimização da loss) o número de épocas definido."
   ]
  },
  {
   "cell_type": "code",
   "execution_count": 12,
   "metadata": {
    "collapsed": true
   },
   "outputs": [],
   "source": [
    "init = tf.global_variables_initializer()\n",
    "saver = tf.train.Saver()"
   ]
  },
  {
   "cell_type": "code",
   "execution_count": 13,
   "metadata": {
    "collapsed": true
   },
   "outputs": [],
   "source": [
    "n_epochs = 100\n",
    "batch_size = 50"
   ]
  },
  {
   "cell_type": "code",
   "execution_count": 14,
   "metadata": {},
   "outputs": [
    {
     "name": "stdout",
     "output_type": "stream",
     "text": [
      "0 Train accuracy: 0.98 Test accuracy: 0.9569\n",
      "1 Train accuracy: 1.0 Test accuracy: 0.9636\n",
      "2 Train accuracy: 0.96 Test accuracy: 0.9714\n",
      "3 Train accuracy: 1.0 Test accuracy: 0.9729\n",
      "4 Train accuracy: 1.0 Test accuracy: 0.9754\n",
      "5 Train accuracy: 1.0 Test accuracy: 0.9764\n",
      "6 Train accuracy: 1.0 Test accuracy: 0.9765\n",
      "7 Train accuracy: 1.0 Test accuracy: 0.9783\n",
      "8 Train accuracy: 1.0 Test accuracy: 0.9797\n",
      "9 Train accuracy: 1.0 Test accuracy: 0.9798\n",
      "10 Train accuracy: 1.0 Test accuracy: 0.9814\n",
      "11 Train accuracy: 1.0 Test accuracy: 0.9808\n",
      "12 Train accuracy: 1.0 Test accuracy: 0.9797\n",
      "13 Train accuracy: 1.0 Test accuracy: 0.982\n",
      "14 Train accuracy: 1.0 Test accuracy: 0.9812\n",
      "15 Train accuracy: 1.0 Test accuracy: 0.9815\n",
      "16 Train accuracy: 1.0 Test accuracy: 0.9815\n",
      "17 Train accuracy: 1.0 Test accuracy: 0.9826\n",
      "18 Train accuracy: 1.0 Test accuracy: 0.9816\n",
      "19 Train accuracy: 1.0 Test accuracy: 0.9813\n",
      "20 Train accuracy: 1.0 Test accuracy: 0.982\n",
      "21 Train accuracy: 1.0 Test accuracy: 0.9823\n",
      "22 Train accuracy: 1.0 Test accuracy: 0.9818\n",
      "23 Train accuracy: 1.0 Test accuracy: 0.9822\n",
      "24 Train accuracy: 1.0 Test accuracy: 0.9819\n",
      "25 Train accuracy: 1.0 Test accuracy: 0.9818\n",
      "26 Train accuracy: 1.0 Test accuracy: 0.9822\n",
      "27 Train accuracy: 1.0 Test accuracy: 0.9823\n",
      "28 Train accuracy: 1.0 Test accuracy: 0.9823\n",
      "29 Train accuracy: 1.0 Test accuracy: 0.9823\n",
      "30 Train accuracy: 1.0 Test accuracy: 0.982\n",
      "31 Train accuracy: 1.0 Test accuracy: 0.9818\n",
      "32 Train accuracy: 1.0 Test accuracy: 0.9821\n",
      "33 Train accuracy: 1.0 Test accuracy: 0.982\n",
      "34 Train accuracy: 1.0 Test accuracy: 0.9819\n",
      "35 Train accuracy: 1.0 Test accuracy: 0.9818\n",
      "36 Train accuracy: 1.0 Test accuracy: 0.9822\n",
      "37 Train accuracy: 1.0 Test accuracy: 0.9824\n",
      "38 Train accuracy: 1.0 Test accuracy: 0.9823\n",
      "39 Train accuracy: 1.0 Test accuracy: 0.9821\n",
      "40 Train accuracy: 1.0 Test accuracy: 0.9823\n",
      "41 Train accuracy: 1.0 Test accuracy: 0.9821\n",
      "42 Train accuracy: 1.0 Test accuracy: 0.982\n",
      "43 Train accuracy: 1.0 Test accuracy: 0.9824\n",
      "44 Train accuracy: 1.0 Test accuracy: 0.9818\n",
      "45 Train accuracy: 1.0 Test accuracy: 0.9822\n",
      "46 Train accuracy: 1.0 Test accuracy: 0.9824\n",
      "47 Train accuracy: 1.0 Test accuracy: 0.9821\n",
      "48 Train accuracy: 1.0 Test accuracy: 0.9822\n",
      "49 Train accuracy: 1.0 Test accuracy: 0.9822\n",
      "50 Train accuracy: 1.0 Test accuracy: 0.9823\n",
      "51 Train accuracy: 1.0 Test accuracy: 0.9822\n",
      "52 Train accuracy: 1.0 Test accuracy: 0.9823\n",
      "53 Train accuracy: 1.0 Test accuracy: 0.9819\n",
      "54 Train accuracy: 1.0 Test accuracy: 0.9825\n",
      "55 Train accuracy: 1.0 Test accuracy: 0.9823\n",
      "56 Train accuracy: 1.0 Test accuracy: 0.9821\n",
      "57 Train accuracy: 1.0 Test accuracy: 0.9822\n",
      "58 Train accuracy: 1.0 Test accuracy: 0.9824\n",
      "59 Train accuracy: 1.0 Test accuracy: 0.9823\n",
      "60 Train accuracy: 1.0 Test accuracy: 0.9826\n",
      "61 Train accuracy: 1.0 Test accuracy: 0.9821\n",
      "62 Train accuracy: 1.0 Test accuracy: 0.9823\n",
      "63 Train accuracy: 1.0 Test accuracy: 0.9822\n",
      "64 Train accuracy: 1.0 Test accuracy: 0.9824\n",
      "65 Train accuracy: 1.0 Test accuracy: 0.9822\n",
      "66 Train accuracy: 1.0 Test accuracy: 0.9823\n",
      "67 Train accuracy: 1.0 Test accuracy: 0.9822\n",
      "68 Train accuracy: 1.0 Test accuracy: 0.9822\n",
      "69 Train accuracy: 1.0 Test accuracy: 0.9822\n",
      "70 Train accuracy: 1.0 Test accuracy: 0.9824\n",
      "71 Train accuracy: 1.0 Test accuracy: 0.9824\n",
      "72 Train accuracy: 1.0 Test accuracy: 0.9823\n",
      "73 Train accuracy: 1.0 Test accuracy: 0.9824\n",
      "74 Train accuracy: 1.0 Test accuracy: 0.9824\n",
      "75 Train accuracy: 1.0 Test accuracy: 0.9824\n",
      "76 Train accuracy: 1.0 Test accuracy: 0.9824\n",
      "77 Train accuracy: 1.0 Test accuracy: 0.9823\n",
      "78 Train accuracy: 1.0 Test accuracy: 0.9824\n",
      "79 Train accuracy: 1.0 Test accuracy: 0.9822\n",
      "80 Train accuracy: 1.0 Test accuracy: 0.9826\n",
      "81 Train accuracy: 1.0 Test accuracy: 0.9822\n",
      "82 Train accuracy: 1.0 Test accuracy: 0.9822\n",
      "83 Train accuracy: 1.0 Test accuracy: 0.9823\n",
      "84 Train accuracy: 1.0 Test accuracy: 0.9825\n",
      "85 Train accuracy: 1.0 Test accuracy: 0.9825\n",
      "86 Train accuracy: 1.0 Test accuracy: 0.9824\n",
      "87 Train accuracy: 1.0 Test accuracy: 0.9824\n",
      "88 Train accuracy: 1.0 Test accuracy: 0.9822\n",
      "89 Train accuracy: 1.0 Test accuracy: 0.9822\n",
      "90 Train accuracy: 1.0 Test accuracy: 0.9824\n",
      "91 Train accuracy: 1.0 Test accuracy: 0.9823\n",
      "92 Train accuracy: 1.0 Test accuracy: 0.9824\n",
      "93 Train accuracy: 1.0 Test accuracy: 0.9824\n",
      "94 Train accuracy: 1.0 Test accuracy: 0.9822\n",
      "95 Train accuracy: 1.0 Test accuracy: 0.9823\n",
      "96 Train accuracy: 1.0 Test accuracy: 0.9824\n",
      "97 Train accuracy: 1.0 Test accuracy: 0.9825\n",
      "98 Train accuracy: 1.0 Test accuracy: 0.9825\n",
      "99 Train accuracy: 1.0 Test accuracy: 0.9824\n"
     ]
    }
   ],
   "source": [
    "with tf.Session() as sess:\n",
    "    init.run()\n",
    "    train_accs = []\n",
    "    test_accs = []\n",
    "    train_losses = []\n",
    "    test_losses = []\n",
    "    \n",
    "    for epoch in range(n_epochs):\n",
    "        for iteration in range(mnist.train.num_examples // batch_size):\n",
    "            X_batch, y_batch = mnist.train.next_batch(batch_size)\n",
    "            sess.run(training_op, feed_dict={X: X_batch, y: y_batch})\n",
    "        acc_train = accuracy.eval(feed_dict={X: X_batch, y: y_batch})\n",
    "        acc_test = accuracy.eval(feed_dict={X: mnist.test.images, y: mnist.test.labels})\n",
    "        loss_train = loss.eval(feed_dict={X: X_batch, y: y_batch})\n",
    "        loss_test = loss.eval(feed_dict={X: mnist.test.images, y: mnist.test.labels})\n",
    "        \n",
    "        print(epoch, \"Train accuracy:\", acc_train, \"Test accuracy:\", acc_test)\n",
    "        train_accs.append(acc_train)\n",
    "        test_accs.append(acc_test)\n",
    "        train_losses.append(loss_train)\n",
    "        test_losses.append(loss_test)\n",
    "    save_path = saver.save(sess, \"./my_model_tf.ckpt\")"
   ]
  },
  {
   "cell_type": "markdown",
   "metadata": {},
   "source": [
    "Perceba que se não executarmos o método eval de nossas objetos no tensorflow não conseguimos obter o valor dele, o que obtemos é o próprio objeto. Portanto, sempre que precisarmos do valor do objeto devemos executá-lo"
   ]
  },
  {
   "cell_type": "code",
   "execution_count": 15,
   "metadata": {},
   "outputs": [
    {
     "data": {
      "text/plain": [
       "<tf.Tensor 'loss/loss:0' shape=() dtype=float32>"
      ]
     },
     "execution_count": 15,
     "metadata": {},
     "output_type": "execute_result"
    }
   ],
   "source": [
    "loss"
   ]
  },
  {
   "cell_type": "markdown",
   "metadata": {},
   "source": [
    "Vamos visualizar nosso processo de treinamento da rede"
   ]
  },
  {
   "cell_type": "code",
   "execution_count": 16,
   "metadata": {
    "collapsed": true
   },
   "outputs": [],
   "source": [
    "import matplotlib.pyplot as plt\n",
    "import numpy as np\n",
    "%matplotlib inline"
   ]
  },
  {
   "cell_type": "code",
   "execution_count": 17,
   "metadata": {
    "collapsed": true
   },
   "outputs": [],
   "source": [
    "trains = np.arange(len(train_accs))"
   ]
  },
  {
   "cell_type": "code",
   "execution_count": 18,
   "metadata": {},
   "outputs": [
    {
     "data": {
      "image/png": "[encoded data removed]",
      "text/plain": [
       "<matplotlib.figure.Figure at 0x27e34ffde80>"
      ]
     },
     "metadata": {},
     "output_type": "display_data"
    }
   ],
   "source": [
    "plt.plot(trains, train_accs, label=\"Treino\")\n",
    "plt.plot(trains, test_accs, label=\"Teste\")\n",
    "plt.legend()\n",
    "plt.show()"
   ]
  },
  {
   "cell_type": "code",
   "execution_count": 19,
   "metadata": {},
   "outputs": [
    {
     "data": {
      "image/png": "[encoded data removed]",
      "text/plain": [
       "<matplotlib.figure.Figure at 0x27e35183908>"
      ]
     },
     "metadata": {},
     "output_type": "display_data"
    }
   ],
   "source": [
    "plt.plot(trains, train_losses, label=\"Treino\")\n",
    "plt.plot(trains, test_losses, label=\"Teste\")\n",
    "plt.legend()\n",
    "plt.show()"
   ]
  },
  {
   "cell_type": "markdown",
   "metadata": {},
   "source": [
    "Note que a oscilação dos valores de treino são bem maiores que no de teste, uma vez que os pesos estão sendo ajustados em função deles. É possível observar a convergência da rede ao longo do tempo (acurácia aumenta e loss diminui). <br>\n",
    "As oscilações bruscas podem ser causadar por diveros motivos. Tente diminuir o valor da learning rate e executar novamente."
   ]
  },
  {
   "cell_type": "markdown",
   "metadata": {},
   "source": [
    "Agora que temos nosso modelo treinado, podemos classificar novas imagens.  Para isso, devemos carregar o modelo qe salvamos"
   ]
  },
  {
   "cell_type": "code",
   "execution_count": 20,
   "metadata": {},
   "outputs": [
    {
     "name": "stdout",
     "output_type": "stream",
     "text": [
      "INFO:tensorflow:Restoring parameters from ./my_model_tf.ckpt\n"
     ]
    }
   ],
   "source": [
    "with tf.Session() as sess:\n",
    "    saver.restore(sess, \"./my_model_tf.ckpt\")\n",
    "    x_new = mnist.test.images[5]\n",
    "    Z = logits.eval(feed_dict={X: [x_new]})\n",
    "    y_pred = np.argmax(Z, axis=1)"
   ]
  },
  {
   "cell_type": "code",
   "execution_count": 22,
   "metadata": {},
   "outputs": [
    {
     "data": {
      "text/plain": [
       "<matplotlib.image.AxesImage at 0x27e359a22e8>"
      ]
     },
     "execution_count": 22,
     "metadata": {},
     "output_type": "execute_result"
    },
    {
     "data": {
      "image/png": "[encoded data removed]",
      "text/plain": [
       "<matplotlib.figure.Figure at 0x27e351fd3c8>"
      ]
     },
     "metadata": {},
     "output_type": "display_data"
    }
   ],
   "source": [
    "x_img = x_new.reshape([28, 28])\n",
    "plt.gray()\n",
    "plt.imshow(x_img)"
   ]
  },
  {
   "cell_type": "code",
   "execution_count": 23,
   "metadata": {},
   "outputs": [
    {
     "data": {
      "text/plain": [
       "1"
      ]
     },
     "execution_count": 23,
     "metadata": {},
     "output_type": "execute_result"
    }
   ],
   "source": [
    "y_pred[0]"
   ]
  },
  {
   "cell_type": "markdown",
   "metadata": {},
   "source": [
    "Lembre-se que estamos trabalhando com os logits (valores de entrada da softmax). Se precisarmos predizer as probabilidades, devemos aplicar a softmax para normalização"
   ]
  },
  {
   "cell_type": "code",
   "execution_count": 24,
   "metadata": {},
   "outputs": [
    {
     "name": "stdout",
     "output_type": "stream",
     "text": [
      "INFO:tensorflow:Restoring parameters from ./my_model_tf.ckpt\n"
     ]
    }
   ],
   "source": [
    "probabilities = tf.nn.softmax(logits)\n",
    "with tf.Session() as sess:\n",
    "    saver.restore(sess, \"./my_model_tf.ckpt\")\n",
    "    x_new = mnist.test.images[5]\n",
    "    y_probs = probabilities.eval(feed_dict={X: [x_new]})    \n",
    "    y_pred = np.argmax(y_probs, axis=1)    "
   ]
  },
  {
   "cell_type": "markdown",
   "metadata": {},
   "source": [
    "A probabilidade pra cada classe é:"
   ]
  },
  {
   "cell_type": "code",
   "execution_count": 26,
   "metadata": {},
   "outputs": [
    {
     "data": {
      "text/plain": [
       "array([[  5.40209079e-16,   9.99999881e-01,   2.95586336e-13,\n",
       "          5.01862380e-14,   3.02528447e-09,   3.93857297e-16,\n",
       "          4.83358377e-15,   1.17119093e-07,   1.02851427e-09,\n",
       "          3.42836247e-14]], dtype=float32)"
      ]
     },
     "execution_count": 26,
     "metadata": {},
     "output_type": "execute_result"
    }
   ],
   "source": [
    "y_probs"
   ]
  },
  {
   "cell_type": "code",
   "execution_count": 27,
   "metadata": {},
   "outputs": [
    {
     "name": "stdout",
     "output_type": "stream",
     "text": [
      "Classe predita 1 com probabilidade 1.000000\n"
     ]
    }
   ],
   "source": [
    "print(\"Classe predita %d com probabilidade %f\" %(y_pred[0], np.max(y_probs)))"
   ]
  },
  {
   "cell_type": "markdown",
   "metadata": {},
   "source": [
    "Veja abaixo uma ilustração de como a softmax transforma a saída da rede em um distribuição de probabilidade,usando os logits ou a proabilidade nos fornece o mesmo resultado para classificação:"
   ]
  },
  {
   "cell_type": "markdown",
   "metadata": {},
   "source": [
    "<img src='imagens/softmax.png' width=\"500\">"
   ]
  },
  {
   "cell_type": "code",
   "execution_count": null,
   "metadata": {
    "collapsed": true
   },
   "outputs": [],
   "source": []
  }
 ],
 "metadata": {
  "kernelspec": {
   "display_name": "Python 3",
   "language": "python",
   "name": "python3"
  },
  "language_info": {
   "codemirror_mode": {
    "name": "ipython",
    "version": 3
   },
   "file_extension": ".py",
   "mimetype": "text/x-python",
   "name": "python",
   "nbconvert_exporter": "python",
   "pygments_lexer": "ipython3",
   "version": "3.6.3"
  }
 },
 "nbformat": 4,
 "nbformat_minor": 2
}
