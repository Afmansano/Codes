{
 "cells": [
  {
   "cell_type": "code",
   "execution_count": 43,
   "metadata": {},
   "outputs": [],
   "source": [
    "import tensorflow as tf\n",
    "import numpy as np\n",
    "import sys\n",
    "import tqdm\n",
    "import matplotlib.pyplot as plt\n",
    "%matplotlib inline"
   ]
  },
  {
   "cell_type": "code",
   "execution_count": 44,
   "metadata": {},
   "outputs": [
    {
     "name": "stdout",
     "output_type": "stream",
     "text": [
      "Extracting MNIST-data/train-images-idx3-ubyte.gz\n",
      "Extracting MNIST-data/train-labels-idx1-ubyte.gz\n",
      "Extracting MNIST-data/t10k-images-idx3-ubyte.gz\n",
      "Extracting MNIST-data/t10k-labels-idx1-ubyte.gz\n"
     ]
    }
   ],
   "source": [
    "mnist = tf.contrib.learn.datasets.load_dataset(\"mnist\")"
   ]
  },
  {
   "cell_type": "code",
   "execution_count": 45,
   "metadata": {},
   "outputs": [],
   "source": [
    "train_data = mnist.train\n",
    "test_data = mnist.test"
   ]
  },
  {
   "cell_type": "code",
   "execution_count": 412,
   "metadata": {},
   "outputs": [],
   "source": [
    "#reincia o grafo sempre para o mesmo estado\n",
    "def reset_graph(seed=42):\n",
    "    tf.reset_default_graph()\n",
    "    tf.set_random_seed(seed)"
   ]
  },
  {
   "cell_type": "code",
   "execution_count": 470,
   "metadata": {},
   "outputs": [],
   "source": [
    "reset_graph()\n",
    "\n",
    "inputs_dim = 28*28\n",
    "n_hidden1 = 300\n",
    "n_hidden2 = 200\n",
    "n_hidden3 = 200\n",
    "n_hidden4 = 150\n",
    "n_hidden5 = 100\n",
    "n_hidden6 = n_hidden4\n",
    "n_hidden7 = n_hidden3\n",
    "n_hidden8 = n_hidden2\n",
    "n_outputs = inputs_dim\n",
    "\n",
    "learning_rate = 0.01"
   ]
  },
  {
   "cell_type": "markdown",
   "metadata": {},
   "source": [
    "Note que adicionamos um ruído gaussiano ao valor da nossa entrada. Nosso autoencoder deve aprender a remover esse ruído"
   ]
  },
  {
   "cell_type": "code",
   "execution_count": 471,
   "metadata": {},
   "outputs": [],
   "source": [
    "noise_level = 0.1\n",
    "\n",
    "X = tf.placeholder(tf.float32, shape=[None, inputs_dim])\n",
    "X_noisy = X + noise_level*tf.random_normal(tf.shape(X)) \n",
    "\n",
    "hidden1 = tf.layers.dense(X_noisy, n_hidden1, activation=tf.nn.relu, name=\"hidden1\")\n",
    "hidden2 = tf.layers.dense(hidden1, n_hidden2, activation=tf.nn.relu, name=\"hidden2\")\n",
    "hidden3 = tf.layers.dense(hidden2, n_hidden3, activation=tf.nn.relu, name=\"hidden3\")\n",
    "hidden4 = tf.layers.dense(hidden3, n_hidden4, activation=tf.nn.relu, name=\"hidden4\")\n",
    "hidden5 = tf.layers.dense(hidden4, n_hidden5, activation=tf.nn.relu, name=\"hidden5\")\n",
    "hidden6 = tf.layers.dense(hidden5, n_hidden6, activation=tf.nn.relu, name=\"hidden6\")\n",
    "hidden7 = tf.layers.dense(hidden6, n_hidden7, activation=tf.nn.relu, name=\"hidden7\")\n",
    "hidden8 = tf.layers.dense(hidden7, n_hidden8, activation=tf.nn.relu, name=\"hidden8\")\n",
    "outputs = tf.layers.dense(hidden8, inputs_dim, name=\"outputs\") #linear defaul\n",
    "\n",
    "\n",
    "reconstruction_loss = tf.reduce_mean(tf.square(outputs - X))#MSE"
   ]
  },
  {
   "cell_type": "code",
   "execution_count": 472,
   "metadata": {},
   "outputs": [],
   "source": [
    "optimizer = tf.train.AdamOptimizer(learning_rate)\n",
    "training_op = optimizer.minimize(reconstruction_loss)"
   ]
  },
  {
   "cell_type": "code",
   "execution_count": 473,
   "metadata": {},
   "outputs": [],
   "source": [
    "init = tf.global_variables_initializer()\n",
    "saver = tf.train.Saver()"
   ]
  },
  {
   "cell_type": "markdown",
   "metadata": {},
   "source": [
    "Trainamento"
   ]
  },
  {
   "cell_type": "code",
   "execution_count": 474,
   "metadata": {},
   "outputs": [],
   "source": [
    "n_epochs = 20\n",
    "batch_size = 150"
   ]
  },
  {
   "cell_type": "code",
   "execution_count": 475,
   "metadata": {},
   "outputs": [
    {
     "name": "stderr",
     "output_type": "stream",
     "text": [
      "batches:  94%|█████████▍| 344/366 [00:09<00:00, 34.70it/s]/Users/alexmansano/anaconda/lib/python3.6/site-packages/tqdm/_monitor.py:89: TqdmSynchronisationWarning: Set changed size during iteration (see https://github.com/tqdm/tqdm/issues/481)\n",
      "  TqdmSynchronisationWarning)\n",
      "batches: 100%|██████████| 366/366 [00:10<00:00, 34.78it/s]\n",
      "batches:   0%|          | 0/366 [00:00<?, ?it/s]"
     ]
    },
    {
     "name": "stdout",
     "output_type": "stream",
     "text": [
      "0 Reconstruction loss train:  0.041329\n",
      "0 Reconstruction loss test:  0.0425163\n"
     ]
    },
    {
     "name": "stderr",
     "output_type": "stream",
     "text": [
      "batches: 100%|██████████| 366/366 [00:10<00:00, 35.09it/s]\n",
      "batches:   0%|          | 0/366 [00:00<?, ?it/s]"
     ]
    },
    {
     "name": "stdout",
     "output_type": "stream",
     "text": [
      "1 Reconstruction loss train:  0.0338584\n",
      "1 Reconstruction loss test:  0.0335142\n"
     ]
    },
    {
     "name": "stderr",
     "output_type": "stream",
     "text": [
      "batches: 100%|██████████| 366/366 [00:10<00:00, 35.77it/s]\n",
      "batches:   0%|          | 0/366 [00:00<?, ?it/s]"
     ]
    },
    {
     "name": "stdout",
     "output_type": "stream",
     "text": [
      "2 Reconstruction loss train:  0.0296068\n",
      "2 Reconstruction loss test:  0.0307532\n"
     ]
    },
    {
     "name": "stderr",
     "output_type": "stream",
     "text": [
      "batches: 100%|██████████| 366/366 [00:10<00:00, 36.50it/s]\n",
      "batches:   0%|          | 0/366 [00:00<?, ?it/s]"
     ]
    },
    {
     "name": "stdout",
     "output_type": "stream",
     "text": [
      "3 Reconstruction loss train:  0.0292096\n",
      "3 Reconstruction loss test:  0.0301339\n"
     ]
    },
    {
     "name": "stderr",
     "output_type": "stream",
     "text": [
      "batches: 100%|██████████| 366/366 [00:09<00:00, 36.69it/s]\n",
      "batches:   0%|          | 0/366 [00:00<?, ?it/s]"
     ]
    },
    {
     "name": "stdout",
     "output_type": "stream",
     "text": [
      "4 Reconstruction loss train:  0.0293227\n",
      "4 Reconstruction loss test:  0.0289175\n"
     ]
    },
    {
     "name": "stderr",
     "output_type": "stream",
     "text": [
      "batches: 100%|██████████| 366/366 [00:10<00:00, 36.27it/s]\n",
      "batches:   0%|          | 0/366 [00:00<?, ?it/s]"
     ]
    },
    {
     "name": "stdout",
     "output_type": "stream",
     "text": [
      "5 Reconstruction loss train:  0.0275189\n",
      "5 Reconstruction loss test:  0.0279444\n"
     ]
    },
    {
     "name": "stderr",
     "output_type": "stream",
     "text": [
      "batches: 100%|██████████| 366/366 [00:10<00:00, 35.56it/s]\n",
      "batches:   0%|          | 0/366 [00:00<?, ?it/s]"
     ]
    },
    {
     "name": "stdout",
     "output_type": "stream",
     "text": [
      "6 Reconstruction loss train:  0.0275872\n",
      "6 Reconstruction loss test:  0.027395\n"
     ]
    },
    {
     "name": "stderr",
     "output_type": "stream",
     "text": [
      "batches: 100%|██████████| 366/366 [00:09<00:00, 36.82it/s]\n",
      "batches:   0%|          | 0/366 [00:00<?, ?it/s]"
     ]
    },
    {
     "name": "stdout",
     "output_type": "stream",
     "text": [
      "7 Reconstruction loss train:  0.0268135\n",
      "7 Reconstruction loss test:  0.0266173\n"
     ]
    },
    {
     "name": "stderr",
     "output_type": "stream",
     "text": [
      "batches: 100%|██████████| 366/366 [00:10<00:00, 36.38it/s]\n",
      "batches:   0%|          | 0/366 [00:00<?, ?it/s]"
     ]
    },
    {
     "name": "stdout",
     "output_type": "stream",
     "text": [
      "8 Reconstruction loss train:  0.0270606\n",
      "8 Reconstruction loss test:  0.0261811\n"
     ]
    },
    {
     "name": "stderr",
     "output_type": "stream",
     "text": [
      "batches: 100%|██████████| 366/366 [00:09<00:00, 36.99it/s]\n",
      "batches:   0%|          | 0/366 [00:00<?, ?it/s]"
     ]
    },
    {
     "name": "stdout",
     "output_type": "stream",
     "text": [
      "9 Reconstruction loss train:  0.025874\n",
      "9 Reconstruction loss test:  0.026049\n"
     ]
    },
    {
     "name": "stderr",
     "output_type": "stream",
     "text": [
      "batches: 100%|██████████| 366/366 [00:09<00:00, 36.97it/s]\n",
      "batches:   0%|          | 0/366 [00:00<?, ?it/s]"
     ]
    },
    {
     "name": "stdout",
     "output_type": "stream",
     "text": [
      "10 Reconstruction loss train:  0.0254593\n",
      "10 Reconstruction loss test:  0.0251427\n"
     ]
    },
    {
     "name": "stderr",
     "output_type": "stream",
     "text": [
      "batches: 100%|██████████| 366/366 [00:09<00:00, 36.83it/s]\n",
      "batches:   0%|          | 0/366 [00:00<?, ?it/s]"
     ]
    },
    {
     "name": "stdout",
     "output_type": "stream",
     "text": [
      "11 Reconstruction loss train:  0.0265207\n",
      "11 Reconstruction loss test:  0.0251555\n"
     ]
    },
    {
     "name": "stderr",
     "output_type": "stream",
     "text": [
      "batches: 100%|██████████| 366/366 [00:10<00:00, 35.97it/s]\n",
      "batches:   0%|          | 0/366 [00:00<?, ?it/s]"
     ]
    },
    {
     "name": "stdout",
     "output_type": "stream",
     "text": [
      "12 Reconstruction loss train:  0.0249615\n",
      "12 Reconstruction loss test:  0.0242571\n"
     ]
    },
    {
     "name": "stderr",
     "output_type": "stream",
     "text": [
      "batches: 100%|██████████| 366/366 [00:09<00:00, 36.73it/s]\n",
      "batches:   0%|          | 0/366 [00:00<?, ?it/s]"
     ]
    },
    {
     "name": "stdout",
     "output_type": "stream",
     "text": [
      "13 Reconstruction loss train:  0.0248224\n",
      "13 Reconstruction loss test:  0.0244679\n"
     ]
    },
    {
     "name": "stderr",
     "output_type": "stream",
     "text": [
      "batches: 100%|██████████| 366/366 [00:09<00:00, 36.79it/s]\n",
      "batches:   0%|          | 0/366 [00:00<?, ?it/s]"
     ]
    },
    {
     "name": "stdout",
     "output_type": "stream",
     "text": [
      "14 Reconstruction loss train:  0.0237919\n",
      "14 Reconstruction loss test:  0.0244452\n"
     ]
    },
    {
     "name": "stderr",
     "output_type": "stream",
     "text": [
      "batches: 100%|██████████| 366/366 [00:09<00:00, 36.74it/s]\n",
      "batches:   0%|          | 0/366 [00:00<?, ?it/s]"
     ]
    },
    {
     "name": "stdout",
     "output_type": "stream",
     "text": [
      "15 Reconstruction loss train:  0.0227951\n",
      "15 Reconstruction loss test:  0.0236335\n"
     ]
    },
    {
     "name": "stderr",
     "output_type": "stream",
     "text": [
      "batches: 100%|██████████| 366/366 [00:09<00:00, 37.04it/s]\n",
      "batches:   0%|          | 0/366 [00:00<?, ?it/s]"
     ]
    },
    {
     "name": "stdout",
     "output_type": "stream",
     "text": [
      "16 Reconstruction loss train:  0.025081\n",
      "16 Reconstruction loss test:  0.0242166\n"
     ]
    },
    {
     "name": "stderr",
     "output_type": "stream",
     "text": [
      "batches: 100%|██████████| 366/366 [00:10<00:00, 36.19it/s]\n",
      "batches:   0%|          | 0/366 [00:00<?, ?it/s]"
     ]
    },
    {
     "name": "stdout",
     "output_type": "stream",
     "text": [
      "17 Reconstruction loss train:  0.0248693\n",
      "17 Reconstruction loss test:  0.0241674\n"
     ]
    },
    {
     "name": "stderr",
     "output_type": "stream",
     "text": [
      "batches: 100%|██████████| 366/366 [00:10<00:00, 36.31it/s]\n",
      "batches:   0%|          | 0/366 [00:00<?, ?it/s]"
     ]
    },
    {
     "name": "stdout",
     "output_type": "stream",
     "text": [
      "18 Reconstruction loss train:  0.0230553\n",
      "18 Reconstruction loss test:  0.0237944\n"
     ]
    },
    {
     "name": "stderr",
     "output_type": "stream",
     "text": [
      "batches: 100%|██████████| 366/366 [00:09<00:00, 36.98it/s]\n"
     ]
    },
    {
     "name": "stdout",
     "output_type": "stream",
     "text": [
      "19 Reconstruction loss train:  0.0245065\n",
      "19 Reconstruction loss test:  0.0238105\n"
     ]
    }
   ],
   "source": [
    "with tf.Session() as sess:\n",
    "    init.run()\n",
    "    for epoch in range(n_epochs):\n",
    "        n_batches = mnist.train.num_examples // batch_size\n",
    "        for iteration in tqdm.trange(n_batches, desc=\"batches\"):\n",
    "            X_batch, y_batch = train_data.next_batch(batch_size)\n",
    "            sess.run(training_op, feed_dict={X: X_batch})\n",
    "        loss_train = reconstruction_loss.eval(feed_dict={X: X_batch})\n",
    "        loss_test = reconstruction_loss.eval(feed_dict={X: mnist.test.images})\n",
    "        print(\"\\r{}\".format(epoch), \"Reconstruction loss train: \", loss_train)\n",
    "        print(\"\\r{}\".format(epoch), \"Reconstruction loss test: \", loss_test)\n",
    "        saver.save(sess, \"./my_model_stacked_denoising_gaussian.ckpt\")            "
   ]
  },
  {
   "cell_type": "code",
   "execution_count": 476,
   "metadata": {},
   "outputs": [],
   "source": [
    "def plot_image(image, shape=[28, 28]):\n",
    "    plt.imshow(image.reshape(shape), cmap=\"Greys\", interpolation=\"nearest\")\n",
    "    plt.axis=\"off\""
   ]
  },
  {
   "cell_type": "code",
   "execution_count": 477,
   "metadata": {},
   "outputs": [
    {
     "name": "stdout",
     "output_type": "stream",
     "text": [
      "INFO:tensorflow:Restoring parameters from ./my_model_stacked_denoising_gaussian.ckpt\n"
     ]
    }
   ],
   "source": [
    "with tf.Session() as sess:\n",
    "    saver.restore(sess, \"./my_model_stacked_denoising_gaussian.ckpt\")\n",
    "    reconstructed_data = outputs.eval(feed_dict = {X: test_data.images})\n",
    "    noisy_data = X_noisy.eval(feed_dict = {X: test_data.images})"
   ]
  },
  {
   "cell_type": "markdown",
   "metadata": {},
   "source": [
    "Vamos utilizar nosso conjunto de teste para verificarmos a capacidade do nosso autoencoder reconstruir um exemplo"
   ]
  },
  {
   "cell_type": "code",
   "execution_count": 478,
   "metadata": {},
   "outputs": [
    {
     "data": {
      "image/png": "[encoded data removed]",
      "text/plain": [
       "<matplotlib.figure.Figure at 0x12018edd8>"
      ]
     },
     "metadata": {},
     "output_type": "display_data"
    }
   ],
   "source": [
    "plot_image(reconstructed_data[0])"
   ]
  },
  {
   "cell_type": "markdown",
   "metadata": {},
   "source": [
    "Abaixo temos a imagem com ruído"
   ]
  },
  {
   "cell_type": "code",
   "execution_count": 479,
   "metadata": {},
   "outputs": [
    {
     "data": {
      "image/png": "[encoded data removed]",
      "text/plain": [
       "<matplotlib.figure.Figure at 0x122c945f8>"
      ]
     },
     "metadata": {},
     "output_type": "display_data"
    }
   ],
   "source": [
    "plot_image(noisy_data[0])"
   ]
  },
  {
   "cell_type": "markdown",
   "metadata": {},
   "source": [
    "e a imagem original"
   ]
  },
  {
   "cell_type": "code",
   "execution_count": 480,
   "metadata": {},
   "outputs": [
    {
     "data": {
      "image/png": "[encoded data removed]",
      "text/plain": [
       "<matplotlib.figure.Figure at 0x121a5ac50>"
      ]
     },
     "metadata": {},
     "output_type": "display_data"
    }
   ],
   "source": [
    "plot_image(mnist.test.images[0])"
   ]
  },
  {
   "cell_type": "markdown",
   "metadata": {},
   "source": [
    "Vamos usar essa mesma imagem para vermos quais features nosso autoencoder aprender nas camadas mais baixas. Para isso precisamos obter os pesos da camada mais baixa."
   ]
  },
  {
   "cell_type": "code",
   "execution_count": 481,
   "metadata": {},
   "outputs": [],
   "source": [
    "def get_weights():\n",
    "    return [v for v in tf.get_collection(tf.GraphKeys.TRAINABLE_VARIABLES) \n",
    "            if v.name.endswith('kernel:0')] #obtem apenas os weights, ignorando bias"
   ]
  },
  {
   "cell_type": "code",
   "execution_count": 482,
   "metadata": {},
   "outputs": [
    {
     "name": "stdout",
     "output_type": "stream",
     "text": [
      "INFO:tensorflow:Restoring parameters from ./my_model_stacked_denoising_gaussian.ckpt\n"
     ]
    }
   ],
   "source": [
    "with tf.Session() as sess:\n",
    "    saver.restore(sess, \"./my_model_stacked_denoising_gaussian.ckpt\")\n",
    "    features1 = sess.run(get_weights())"
   ]
  },
  {
   "cell_type": "markdown",
   "metadata": {},
   "source": [
    "Abaixo podemos ver as features obtidas por 25 neurônios da primeira camada"
   ]
  },
  {
   "cell_type": "code",
   "execution_count": 484,
   "metadata": {},
   "outputs": [
    {
     "data": {
      "image/png": "[encoded data removed]",
      "text/plain": [
       "<matplotlib.figure.Figure at 0x129056e80>"
      ]
     },
     "metadata": {},
     "output_type": "display_data"
    }
   ],
   "source": [
    "plt.figure(figsize=(10,10))\n",
    "for i in range(25):\n",
    "    plt.subplot(5, 5, i+1)\n",
    "    plot_image(features1[0].T[i])\n",
    "plt.show()"
   ]
  },
  {
   "cell_type": "markdown",
   "metadata": {},
   "source": [
    "Agora podemos usar camadas deste modelo para treinarmos um classificador com menos dados"
   ]
  },
  {
   "cell_type": "markdown",
   "metadata": {},
   "source": [
    "Vamos ver a estrutura do noss modelo"
   ]
  },
  {
   "cell_type": "markdown",
   "metadata": {},
   "source": [
    "As camadas úteias para treinarmos um classificador são a 1 e 2"
   ]
  },
  {
   "cell_type": "code",
   "execution_count": 643,
   "metadata": {},
   "outputs": [],
   "source": [
    "reset_graph()\n",
    "\n",
    "inputs_dim = 28*28\n",
    "n_hidden1 = 300\n",
    "n_hidden2 = 200\n",
    "n_hidden3 = 200\n",
    "n_hidden4 = 150\n",
    "n_hidden5 = 100\n",
    "n_hidden6 = 150\n",
    "n_outputs = 10"
   ]
  },
  {
   "cell_type": "code",
   "execution_count": 644,
   "metadata": {},
   "outputs": [],
   "source": [
    "X_train = mnist.train.images\n",
    "Y_train = mnist.train.labels\n",
    "X_test = mnist.test.images\n",
    "Y_test = mnist.test.labels"
   ]
  },
  {
   "cell_type": "code",
   "execution_count": 645,
   "metadata": {},
   "outputs": [],
   "source": [
    "X_train_selected = X_train[:5500] #10%\n",
    "Y_train_selected = Y_train[:5500]"
   ]
  },
  {
   "cell_type": "code",
   "execution_count": 646,
   "metadata": {},
   "outputs": [],
   "source": [
    "new_X = tf.placeholder(tf.float32, shape=[None, inputs_dim], name=\"new_X\")\n",
    "y = tf.placeholder(tf.int32, shape=(None), name=\"y\")"
   ]
  },
  {
   "cell_type": "code",
   "execution_count": 647,
   "metadata": {},
   "outputs": [],
   "source": [
    "hidden1 = tf.layers.dense(new_X, n_hidden1, activation=tf.nn.relu, name=\"hidden1\")\n",
    "hidden2 = tf.layers.dense(hidden1, n_hidden2, activation=tf.nn.relu, name=\"hidden2\")\n",
    "hidden3 = tf.layers.dense(hidden2, n_hidden3, activation=tf.nn.relu, name=\"hidden3\")\n",
    "hidden4 = tf.layers.dense(hidden3, n_hidden4, activation=tf.nn.relu, name=\"hidden4\")\n",
    "hidden5 = tf.layers.dense(hidden4, n_hidden5, activation=tf.nn.relu, name=\"hidden5\")\n",
    "hidden6 = tf.layers.dense(hidden5, n_hidden6, activation=tf.nn.relu, name=\"hidden6\")\n",
    "logits = tf.layers.dense(hidden6, n_outputs, activation=None, name=\"logits\")\n"
   ]
  },
  {
   "cell_type": "code",
   "execution_count": 648,
   "metadata": {},
   "outputs": [],
   "source": [
    "xentropy = tf.nn.sparse_softmax_cross_entropy_with_logits(labels=y, logits=logits)\n",
    "loss = tf.reduce_mean(xentropy, name=\"loss\")"
   ]
  },
  {
   "cell_type": "code",
   "execution_count": 649,
   "metadata": {},
   "outputs": [],
   "source": [
    "correct = tf.nn.in_top_k(logits, y, 1)\n",
    "accuracy = tf.reduce_mean(tf.cast(correct, tf.float32), name=\"accuracy\")"
   ]
  },
  {
   "cell_type": "code",
   "execution_count": 650,
   "metadata": {},
   "outputs": [],
   "source": [
    "reuse_vars = tf.get_collection(tf.GraphKeys.GLOBAL_VARIABLES, scope=\"hidden[12345]\")\n",
    "restore_saver = tf.train.Saver(reuse_vars)"
   ]
  },
  {
   "cell_type": "code",
   "execution_count": 651,
   "metadata": {},
   "outputs": [],
   "source": [
    "optimizer = tf.train.AdamOptimizer(learning_rate=0.01)\n",
    "train_vars = tf.get_collection(tf.GraphKeys.TRAINABLE_VARIABLES, scope=\"hidden[67]\")\n",
    "training_op = optimizer.minimize(loss, var_list=train_vars)"
   ]
  },
  {
   "cell_type": "code",
   "execution_count": 652,
   "metadata": {},
   "outputs": [],
   "source": [
    "init = tf.global_variables_initializer()\n",
    "saver = tf.train.Saver()"
   ]
  },
  {
   "cell_type": "code",
   "execution_count": 653,
   "metadata": {},
   "outputs": [],
   "source": [
    "batch_size = 50\n",
    "n_epochs = 400"
   ]
  },
  {
   "cell_type": "code",
   "execution_count": 654,
   "metadata": {},
   "outputs": [],
   "source": [
    "def shuffle_batch(X, y, batch_size):\n",
    "    rnd_idx = np.random.permutation(len(X))\n",
    "    n_batches = len(X) // batch_size\n",
    "    for batch_idx in np.array_split(rnd_idx, n_batches):\n",
    "        X_batch, y_batch = X[batch_idx], y[batch_idx]\n",
    "        yield X_batch, y_batch"
   ]
  },
  {
   "cell_type": "code",
   "execution_count": 655,
   "metadata": {},
   "outputs": [
    {
     "name": "stdout",
     "output_type": "stream",
     "text": [
      "INFO:tensorflow:Restoring parameters from ./my_model_stacked_denoising_gaussian.ckpt\n",
      "0 Test accuracy: 0.8605 Train accuracy: 0.855091\n",
      "1 Test accuracy: 0.8855 Train accuracy: 0.876182\n",
      "2 Test accuracy: 0.8823 Train accuracy: 0.878727\n",
      "3 Test accuracy: 0.8898 Train accuracy: 0.882909\n",
      "4 Test accuracy: 0.8955 Train accuracy: 0.891818\n",
      "5 Test accuracy: 0.8964 Train accuracy: 0.892364\n",
      "6 Test accuracy: 0.8993 Train accuracy: 0.895455\n",
      "7 Test accuracy: 0.8997 Train accuracy: 0.899091\n",
      "8 Test accuracy: 0.9034 Train accuracy: 0.899455\n",
      "9 Test accuracy: 0.9018 Train accuracy: 0.899636\n",
      "10 Test accuracy: 0.904 Train accuracy: 0.903091\n",
      "11 Test accuracy: 0.906 Train accuracy: 0.903273\n",
      "12 Test accuracy: 0.9061 Train accuracy: 0.904\n",
      "13 Test accuracy: 0.9057 Train accuracy: 0.904545\n",
      "14 Test accuracy: 0.9086 Train accuracy: 0.908909\n",
      "15 Test accuracy: 0.9055 Train accuracy: 0.906909\n",
      "16 Test accuracy: 0.9111 Train accuracy: 0.911091\n",
      "17 Test accuracy: 0.9096 Train accuracy: 0.912545\n",
      "18 Test accuracy: 0.9124 Train accuracy: 0.913091\n",
      "19 Test accuracy: 0.9145 Train accuracy: 0.914727\n",
      "20 Test accuracy: 0.9133 Train accuracy: 0.914182\n",
      "21 Test accuracy: 0.9161 Train accuracy: 0.916727\n",
      "22 Test accuracy: 0.9138 Train accuracy: 0.916545\n",
      "23 Test accuracy: 0.9131 Train accuracy: 0.914\n",
      "24 Test accuracy: 0.9125 Train accuracy: 0.914182\n",
      "25 Test accuracy: 0.9186 Train accuracy: 0.920364\n",
      "26 Test accuracy: 0.9141 Train accuracy: 0.916727\n",
      "27 Test accuracy: 0.9145 Train accuracy: 0.918909\n",
      "28 Test accuracy: 0.9193 Train accuracy: 0.920545\n",
      "29 Test accuracy: 0.92 Train accuracy: 0.922\n",
      "30 Test accuracy: 0.9195 Train accuracy: 0.920909\n",
      "31 Test accuracy: 0.9202 Train accuracy: 0.924545\n",
      "32 Test accuracy: 0.92 Train accuracy: 0.922727\n",
      "33 Test accuracy: 0.918 Train accuracy: 0.921636\n",
      "34 Test accuracy: 0.9233 Train accuracy: 0.923273\n",
      "35 Test accuracy: 0.9202 Train accuracy: 0.924727\n",
      "36 Test accuracy: 0.9237 Train accuracy: 0.926364\n",
      "37 Test accuracy: 0.9235 Train accuracy: 0.925273\n",
      "38 Test accuracy: 0.9227 Train accuracy: 0.927273\n",
      "39 Test accuracy: 0.9208 Train accuracy: 0.931091\n",
      "40 Test accuracy: 0.9264 Train accuracy: 0.932182\n",
      "41 Test accuracy: 0.9218 Train accuracy: 0.930727\n",
      "42 Test accuracy: 0.9254 Train accuracy: 0.931455\n",
      "43 Test accuracy: 0.927 Train accuracy: 0.929455\n",
      "44 Test accuracy: 0.9252 Train accuracy: 0.933091\n",
      "45 Test accuracy: 0.9237 Train accuracy: 0.931636\n",
      "46 Test accuracy: 0.9231 Train accuracy: 0.931818\n",
      "47 Test accuracy: 0.928 Train accuracy: 0.932182\n",
      "48 Test accuracy: 0.9291 Train accuracy: 0.933091\n",
      "49 Test accuracy: 0.9262 Train accuracy: 0.931091\n",
      "50 Test accuracy: 0.9278 Train accuracy: 0.938\n",
      "51 Test accuracy: 0.9274 Train accuracy: 0.936364\n",
      "52 Test accuracy: 0.9256 Train accuracy: 0.938545\n",
      "53 Test accuracy: 0.9299 Train accuracy: 0.934727\n",
      "54 Test accuracy: 0.9309 Train accuracy: 0.939818\n",
      "55 Test accuracy: 0.929 Train accuracy: 0.936727\n",
      "56 Test accuracy: 0.9312 Train accuracy: 0.939818\n",
      "57 Test accuracy: 0.9281 Train accuracy: 0.94\n",
      "58 Test accuracy: 0.9288 Train accuracy: 0.938545\n",
      "59 Test accuracy: 0.9312 Train accuracy: 0.942\n",
      "60 Test accuracy: 0.9297 Train accuracy: 0.939455\n",
      "61 Test accuracy: 0.9316 Train accuracy: 0.943455\n",
      "62 Test accuracy: 0.9309 Train accuracy: 0.943818\n",
      "63 Test accuracy: 0.9301 Train accuracy: 0.943455\n",
      "64 Test accuracy: 0.9312 Train accuracy: 0.941636\n",
      "65 Test accuracy: 0.9293 Train accuracy: 0.941455\n",
      "66 Test accuracy: 0.9335 Train accuracy: 0.944364\n",
      "67 Test accuracy: 0.9318 Train accuracy: 0.947455\n",
      "68 Test accuracy: 0.9303 Train accuracy: 0.944182\n",
      "69 Test accuracy: 0.9322 Train accuracy: 0.946909\n",
      "70 Test accuracy: 0.9314 Train accuracy: 0.945455\n",
      "71 Test accuracy: 0.9296 Train accuracy: 0.944\n",
      "72 Test accuracy: 0.9322 Train accuracy: 0.946545\n",
      "73 Test accuracy: 0.932 Train accuracy: 0.947455\n",
      "74 Test accuracy: 0.931 Train accuracy: 0.946545\n",
      "75 Test accuracy: 0.9337 Train accuracy: 0.950727\n",
      "76 Test accuracy: 0.9331 Train accuracy: 0.946364\n",
      "77 Test accuracy: 0.9316 Train accuracy: 0.948\n",
      "78 Test accuracy: 0.9334 Train accuracy: 0.951636\n",
      "79 Test accuracy: 0.9344 Train accuracy: 0.949818\n",
      "80 Test accuracy: 0.9341 Train accuracy: 0.952182\n",
      "81 Test accuracy: 0.9344 Train accuracy: 0.951636\n",
      "82 Test accuracy: 0.9347 Train accuracy: 0.952909\n",
      "83 Test accuracy: 0.9302 Train accuracy: 0.948909\n",
      "84 Test accuracy: 0.9315 Train accuracy: 0.953091\n",
      "85 Test accuracy: 0.9357 Train accuracy: 0.955091\n",
      "86 Test accuracy: 0.9349 Train accuracy: 0.953818\n",
      "87 Test accuracy: 0.9323 Train accuracy: 0.947636\n",
      "88 Test accuracy: 0.9324 Train accuracy: 0.952364\n",
      "89 Test accuracy: 0.9349 Train accuracy: 0.955273\n",
      "90 Test accuracy: 0.9328 Train accuracy: 0.953091\n",
      "91 Test accuracy: 0.9347 Train accuracy: 0.954727\n",
      "92 Test accuracy: 0.9321 Train accuracy: 0.952909\n",
      "93 Test accuracy: 0.9364 Train accuracy: 0.954909\n",
      "94 Test accuracy: 0.9351 Train accuracy: 0.956909\n",
      "95 Test accuracy: 0.9364 Train accuracy: 0.954545\n",
      "96 Test accuracy: 0.9351 Train accuracy: 0.958182\n",
      "97 Test accuracy: 0.9361 Train accuracy: 0.958\n",
      "98 Test accuracy: 0.9358 Train accuracy: 0.955273\n",
      "99 Test accuracy: 0.9357 Train accuracy: 0.955818\n",
      "100 Test accuracy: 0.933 Train accuracy: 0.957455\n",
      "101 Test accuracy: 0.9376 Train accuracy: 0.958182\n",
      "102 Test accuracy: 0.9374 Train accuracy: 0.959273\n",
      "103 Test accuracy: 0.9346 Train accuracy: 0.957091\n",
      "104 Test accuracy: 0.9349 Train accuracy: 0.959091\n",
      "105 Test accuracy: 0.9377 Train accuracy: 0.956364\n",
      "106 Test accuracy: 0.9376 Train accuracy: 0.96\n",
      "107 Test accuracy: 0.9371 Train accuracy: 0.960182\n",
      "108 Test accuracy: 0.9365 Train accuracy: 0.957818\n",
      "109 Test accuracy: 0.9354 Train accuracy: 0.959273\n",
      "110 Test accuracy: 0.937 Train accuracy: 0.960364\n",
      "111 Test accuracy: 0.938 Train accuracy: 0.960182\n",
      "112 Test accuracy: 0.9364 Train accuracy: 0.959818\n",
      "113 Test accuracy: 0.9375 Train accuracy: 0.961455\n",
      "114 Test accuracy: 0.9368 Train accuracy: 0.961636\n",
      "115 Test accuracy: 0.9374 Train accuracy: 0.962\n",
      "116 Test accuracy: 0.9376 Train accuracy: 0.960364\n",
      "117 Test accuracy: 0.938 Train accuracy: 0.959273\n",
      "118 Test accuracy: 0.9351 Train accuracy: 0.96\n",
      "119 Test accuracy: 0.9364 Train accuracy: 0.964\n",
      "120 Test accuracy: 0.9358 Train accuracy: 0.962\n",
      "121 Test accuracy: 0.9385 Train accuracy: 0.961636\n",
      "122 Test accuracy: 0.9373 Train accuracy: 0.961636\n",
      "123 Test accuracy: 0.9353 Train accuracy: 0.959636\n",
      "124 Test accuracy: 0.9376 Train accuracy: 0.962545\n",
      "125 Test accuracy: 0.9371 Train accuracy: 0.964\n",
      "126 Test accuracy: 0.9372 Train accuracy: 0.964727\n",
      "127 Test accuracy: 0.9378 Train accuracy: 0.963455\n",
      "128 Test accuracy: 0.9374 Train accuracy: 0.962909\n",
      "129 Test accuracy: 0.9379 Train accuracy: 0.964364\n",
      "130 Test accuracy: 0.9346 Train accuracy: 0.961091\n",
      "131 Test accuracy: 0.9378 Train accuracy: 0.963636\n",
      "132 Test accuracy: 0.9395 Train accuracy: 0.964\n",
      "133 Test accuracy: 0.936 Train accuracy: 0.965455\n",
      "134 Test accuracy: 0.9377 Train accuracy: 0.963273\n",
      "135 Test accuracy: 0.9373 Train accuracy: 0.966\n",
      "136 Test accuracy: 0.938 Train accuracy: 0.965636\n",
      "137 Test accuracy: 0.937 Train accuracy: 0.963273\n",
      "138 Test accuracy: 0.9367 Train accuracy: 0.965091\n",
      "139 Test accuracy: 0.9369 Train accuracy: 0.966182\n",
      "140 Test accuracy: 0.9369 Train accuracy: 0.964727\n",
      "141 Test accuracy: 0.9364 Train accuracy: 0.966182\n",
      "142 Test accuracy: 0.9341 Train accuracy: 0.958727\n",
      "143 Test accuracy: 0.9347 Train accuracy: 0.964727\n",
      "144 Test accuracy: 0.9362 Train accuracy: 0.966182\n",
      "145 Test accuracy: 0.9364 Train accuracy: 0.966545\n",
      "146 Test accuracy: 0.9372 Train accuracy: 0.966909\n",
      "147 Test accuracy: 0.9377 Train accuracy: 0.966364\n",
      "148 Test accuracy: 0.9369 Train accuracy: 0.966727\n",
      "149 Test accuracy: 0.9385 Train accuracy: 0.968909\n",
      "150 Test accuracy: 0.9355 Train accuracy: 0.962909\n",
      "151 Test accuracy: 0.9362 Train accuracy: 0.967818\n",
      "152 Test accuracy: 0.9373 Train accuracy: 0.967636\n",
      "153 Test accuracy: 0.9384 Train accuracy: 0.965091\n",
      "154 Test accuracy: 0.9379 Train accuracy: 0.967818\n",
      "155 Test accuracy: 0.9389 Train accuracy: 0.967273\n",
      "156 Test accuracy: 0.9383 Train accuracy: 0.968\n",
      "157 Test accuracy: 0.938 Train accuracy: 0.968727\n",
      "158 Test accuracy: 0.9365 Train accuracy: 0.966727\n",
      "159 Test accuracy: 0.9363 Train accuracy: 0.968364\n",
      "160 Test accuracy: 0.9384 Train accuracy: 0.969091\n",
      "161 Test accuracy: 0.9379 Train accuracy: 0.968909\n",
      "162 Test accuracy: 0.9365 Train accuracy: 0.969818\n",
      "163 Test accuracy: 0.9377 Train accuracy: 0.970727\n",
      "164 Test accuracy: 0.9387 Train accuracy: 0.969636\n",
      "165 Test accuracy: 0.9379 Train accuracy: 0.969091\n",
      "166 Test accuracy: 0.937 Train accuracy: 0.968909\n",
      "167 Test accuracy: 0.9375 Train accuracy: 0.972182\n",
      "168 Test accuracy: 0.9361 Train accuracy: 0.971455\n",
      "169 Test accuracy: 0.9357 Train accuracy: 0.968364\n",
      "170 Test accuracy: 0.9377 Train accuracy: 0.969455\n",
      "171 Test accuracy: 0.9369 Train accuracy: 0.970364\n",
      "172 Test accuracy: 0.9355 Train accuracy: 0.969636\n",
      "173 Test accuracy: 0.9377 Train accuracy: 0.971455\n",
      "174 Test accuracy: 0.9351 Train accuracy: 0.970909\n",
      "175 Test accuracy: 0.9371 Train accuracy: 0.969273\n",
      "176 Test accuracy: 0.9362 Train accuracy: 0.970727\n",
      "177 Test accuracy: 0.9372 Train accuracy: 0.970364\n",
      "178 Test accuracy: 0.9375 Train accuracy: 0.970182\n",
      "179 Test accuracy: 0.9362 Train accuracy: 0.970909\n",
      "180 Test accuracy: 0.9375 Train accuracy: 0.973091\n",
      "181 Test accuracy: 0.9371 Train accuracy: 0.971273\n",
      "182 Test accuracy: 0.9372 Train accuracy: 0.973091\n",
      "183 Test accuracy: 0.9361 Train accuracy: 0.969455\n",
      "184 Test accuracy: 0.938 Train accuracy: 0.970545\n",
      "185 Test accuracy: 0.9367 Train accuracy: 0.973273\n",
      "186 Test accuracy: 0.9376 Train accuracy: 0.972545\n",
      "187 Test accuracy: 0.9364 Train accuracy: 0.971091\n",
      "188 Test accuracy: 0.9385 Train accuracy: 0.974\n",
      "189 Test accuracy: 0.9379 Train accuracy: 0.972\n",
      "190 Test accuracy: 0.939 Train accuracy: 0.972909\n",
      "191 Test accuracy: 0.9372 Train accuracy: 0.971455\n",
      "192 Test accuracy: 0.9385 Train accuracy: 0.972909\n",
      "193 Test accuracy: 0.9375 Train accuracy: 0.970545\n",
      "194 Test accuracy: 0.9371 Train accuracy: 0.974545\n",
      "195 Test accuracy: 0.9366 Train accuracy: 0.970545\n",
      "196 Test accuracy: 0.9369 Train accuracy: 0.974\n",
      "197 Test accuracy: 0.9384 Train accuracy: 0.973636\n",
      "198 Test accuracy: 0.9376 Train accuracy: 0.972\n",
      "199 Test accuracy: 0.9365 Train accuracy: 0.972727\n",
      "200 Test accuracy: 0.9378 Train accuracy: 0.972727\n",
      "201 Test accuracy: 0.9381 Train accuracy: 0.973455\n",
      "202 Test accuracy: 0.9365 Train accuracy: 0.974364\n",
      "203 Test accuracy: 0.9378 Train accuracy: 0.975818\n",
      "204 Test accuracy: 0.9379 Train accuracy: 0.973273\n",
      "205 Test accuracy: 0.9383 Train accuracy: 0.973818\n",
      "206 Test accuracy: 0.9389 Train accuracy: 0.974182\n",
      "207 Test accuracy: 0.938 Train accuracy: 0.976\n",
      "208 Test accuracy: 0.9376 Train accuracy: 0.974545\n",
      "209 Test accuracy: 0.938 Train accuracy: 0.976909\n",
      "210 Test accuracy: 0.9366 Train accuracy: 0.976364\n",
      "211 Test accuracy: 0.9372 Train accuracy: 0.974727\n",
      "212 Test accuracy: 0.9358 Train accuracy: 0.974727\n",
      "213 Test accuracy: 0.9365 Train accuracy: 0.975818\n",
      "214 Test accuracy: 0.9386 Train accuracy: 0.975636\n",
      "215 Test accuracy: 0.9374 Train accuracy: 0.975455\n",
      "216 Test accuracy: 0.9378 Train accuracy: 0.976182\n",
      "217 Test accuracy: 0.9371 Train accuracy: 0.976545\n",
      "218 Test accuracy: 0.9381 Train accuracy: 0.976727\n",
      "219 Test accuracy: 0.9361 Train accuracy: 0.975273\n",
      "220 Test accuracy: 0.9364 Train accuracy: 0.977091\n",
      "221 Test accuracy: 0.9329 Train accuracy: 0.970545\n",
      "222 Test accuracy: 0.9388 Train accuracy: 0.978\n",
      "223 Test accuracy: 0.9357 Train accuracy: 0.974182\n",
      "224 Test accuracy: 0.9352 Train accuracy: 0.975636\n",
      "225 Test accuracy: 0.9371 Train accuracy: 0.976545\n",
      "226 Test accuracy: 0.9359 Train accuracy: 0.976727\n",
      "227 Test accuracy: 0.9375 Train accuracy: 0.976182\n",
      "228 Test accuracy: 0.9382 Train accuracy: 0.975091\n",
      "229 Test accuracy: 0.9359 Train accuracy: 0.977636\n",
      "230 Test accuracy: 0.9374 Train accuracy: 0.977636\n",
      "231 Test accuracy: 0.9377 Train accuracy: 0.976727\n",
      "232 Test accuracy: 0.9365 Train accuracy: 0.977455\n",
      "233 Test accuracy: 0.9358 Train accuracy: 0.977636\n",
      "234 Test accuracy: 0.9376 Train accuracy: 0.972\n",
      "235 Test accuracy: 0.9379 Train accuracy: 0.978364\n",
      "236 Test accuracy: 0.9366 Train accuracy: 0.977455\n",
      "237 Test accuracy: 0.9393 Train accuracy: 0.978364\n",
      "238 Test accuracy: 0.9359 Train accuracy: 0.977273\n",
      "239 Test accuracy: 0.9359 Train accuracy: 0.977455\n",
      "240 Test accuracy: 0.9368 Train accuracy: 0.977636\n",
      "241 Test accuracy: 0.9381 Train accuracy: 0.977273\n",
      "242 Test accuracy: 0.9353 Train accuracy: 0.978909\n",
      "243 Test accuracy: 0.9355 Train accuracy: 0.978909\n",
      "244 Test accuracy: 0.9366 Train accuracy: 0.976182\n",
      "245 Test accuracy: 0.9367 Train accuracy: 0.978182\n",
      "246 Test accuracy: 0.9349 Train accuracy: 0.978182\n",
      "247 Test accuracy: 0.9374 Train accuracy: 0.976909\n",
      "248 Test accuracy: 0.938 Train accuracy: 0.979091\n",
      "249 Test accuracy: 0.9375 Train accuracy: 0.976\n",
      "250 Test accuracy: 0.9373 Train accuracy: 0.978\n",
      "251 Test accuracy: 0.9377 Train accuracy: 0.976545\n",
      "252 Test accuracy: 0.9365 Train accuracy: 0.978545\n",
      "253 Test accuracy: 0.9384 Train accuracy: 0.978182\n",
      "254 Test accuracy: 0.9363 Train accuracy: 0.979273\n",
      "255 Test accuracy: 0.9359 Train accuracy: 0.979636\n",
      "256 Test accuracy: 0.9359 Train accuracy: 0.976182\n",
      "257 Test accuracy: 0.9379 Train accuracy: 0.978545\n",
      "258 Test accuracy: 0.9374 Train accuracy: 0.976182\n",
      "259 Test accuracy: 0.9379 Train accuracy: 0.977455\n",
      "260 Test accuracy: 0.9365 Train accuracy: 0.980909\n",
      "261 Test accuracy: 0.9371 Train accuracy: 0.978545\n",
      "262 Test accuracy: 0.9383 Train accuracy: 0.979818\n",
      "263 Test accuracy: 0.9373 Train accuracy: 0.978364\n",
      "264 Test accuracy: 0.9374 Train accuracy: 0.979455\n",
      "265 Test accuracy: 0.934 Train accuracy: 0.979273\n",
      "266 Test accuracy: 0.9371 Train accuracy: 0.980727\n",
      "267 Test accuracy: 0.9367 Train accuracy: 0.98\n",
      "268 Test accuracy: 0.9374 Train accuracy: 0.980545\n",
      "269 Test accuracy: 0.9361 Train accuracy: 0.978\n",
      "270 Test accuracy: 0.9373 Train accuracy: 0.978545\n",
      "271 Test accuracy: 0.9362 Train accuracy: 0.979091\n",
      "272 Test accuracy: 0.9382 Train accuracy: 0.979818\n",
      "273 Test accuracy: 0.9357 Train accuracy: 0.980909\n",
      "274 Test accuracy: 0.9378 Train accuracy: 0.979455\n",
      "275 Test accuracy: 0.9357 Train accuracy: 0.978364\n",
      "276 Test accuracy: 0.9374 Train accuracy: 0.979455\n",
      "277 Test accuracy: 0.9377 Train accuracy: 0.979636\n",
      "278 Test accuracy: 0.9362 Train accuracy: 0.979818\n",
      "279 Test accuracy: 0.9347 Train accuracy: 0.978909\n",
      "280 Test accuracy: 0.9358 Train accuracy: 0.978\n",
      "281 Test accuracy: 0.9367 Train accuracy: 0.980545\n",
      "282 Test accuracy: 0.9357 Train accuracy: 0.982182\n",
      "283 Test accuracy: 0.9361 Train accuracy: 0.981091\n",
      "284 Test accuracy: 0.9363 Train accuracy: 0.980182\n",
      "285 Test accuracy: 0.9374 Train accuracy: 0.979273\n",
      "286 Test accuracy: 0.9356 Train accuracy: 0.981636\n",
      "287 Test accuracy: 0.9359 Train accuracy: 0.98\n",
      "288 Test accuracy: 0.9363 Train accuracy: 0.98\n",
      "289 Test accuracy: 0.9355 Train accuracy: 0.980364\n",
      "290 Test accuracy: 0.9372 Train accuracy: 0.983091\n",
      "291 Test accuracy: 0.9375 Train accuracy: 0.979636\n",
      "292 Test accuracy: 0.9373 Train accuracy: 0.981636\n",
      "293 Test accuracy: 0.9363 Train accuracy: 0.981818\n",
      "294 Test accuracy: 0.9364 Train accuracy: 0.982909\n",
      "295 Test accuracy: 0.9377 Train accuracy: 0.982182\n",
      "296 Test accuracy: 0.9372 Train accuracy: 0.981636\n",
      "297 Test accuracy: 0.9362 Train accuracy: 0.980727\n",
      "298 Test accuracy: 0.9376 Train accuracy: 0.980909\n",
      "299 Test accuracy: 0.9369 Train accuracy: 0.982\n",
      "300 Test accuracy: 0.937 Train accuracy: 0.982545\n",
      "301 Test accuracy: 0.937 Train accuracy: 0.982727\n",
      "302 Test accuracy: 0.9372 Train accuracy: 0.982\n",
      "303 Test accuracy: 0.9374 Train accuracy: 0.982364\n",
      "304 Test accuracy: 0.9367 Train accuracy: 0.982545\n",
      "305 Test accuracy: 0.9364 Train accuracy: 0.983091\n",
      "306 Test accuracy: 0.936 Train accuracy: 0.983636\n",
      "307 Test accuracy: 0.9366 Train accuracy: 0.984909\n",
      "308 Test accuracy: 0.9372 Train accuracy: 0.981455\n",
      "309 Test accuracy: 0.9367 Train accuracy: 0.980545\n",
      "310 Test accuracy: 0.9355 Train accuracy: 0.983273\n",
      "311 Test accuracy: 0.9381 Train accuracy: 0.982909\n",
      "312 Test accuracy: 0.9369 Train accuracy: 0.983273\n",
      "313 Test accuracy: 0.9355 Train accuracy: 0.983273\n",
      "314 Test accuracy: 0.9385 Train accuracy: 0.982727\n",
      "315 Test accuracy: 0.9371 Train accuracy: 0.983455\n",
      "316 Test accuracy: 0.9358 Train accuracy: 0.982182\n",
      "317 Test accuracy: 0.9377 Train accuracy: 0.982\n",
      "318 Test accuracy: 0.9362 Train accuracy: 0.983455\n",
      "319 Test accuracy: 0.936 Train accuracy: 0.981455\n",
      "320 Test accuracy: 0.9346 Train accuracy: 0.982\n",
      "321 Test accuracy: 0.9359 Train accuracy: 0.985455\n",
      "322 Test accuracy: 0.9369 Train accuracy: 0.983273\n",
      "323 Test accuracy: 0.9382 Train accuracy: 0.982364\n",
      "324 Test accuracy: 0.9366 Train accuracy: 0.984909\n",
      "325 Test accuracy: 0.9375 Train accuracy: 0.985091\n",
      "326 Test accuracy: 0.936 Train accuracy: 0.985091\n",
      "327 Test accuracy: 0.9358 Train accuracy: 0.985091\n",
      "328 Test accuracy: 0.9369 Train accuracy: 0.984\n",
      "329 Test accuracy: 0.9358 Train accuracy: 0.982545\n",
      "330 Test accuracy: 0.937 Train accuracy: 0.983455\n",
      "331 Test accuracy: 0.9354 Train accuracy: 0.981636\n",
      "332 Test accuracy: 0.9366 Train accuracy: 0.983636\n",
      "333 Test accuracy: 0.9367 Train accuracy: 0.985273\n",
      "334 Test accuracy: 0.9359 Train accuracy: 0.982182\n",
      "335 Test accuracy: 0.9389 Train accuracy: 0.984364\n",
      "336 Test accuracy: 0.9347 Train accuracy: 0.983091\n",
      "337 Test accuracy: 0.9367 Train accuracy: 0.983455\n",
      "338 Test accuracy: 0.9354 Train accuracy: 0.983091\n",
      "339 Test accuracy: 0.9365 Train accuracy: 0.984545\n",
      "340 Test accuracy: 0.9353 Train accuracy: 0.984\n",
      "341 Test accuracy: 0.9367 Train accuracy: 0.984182\n",
      "342 Test accuracy: 0.934 Train accuracy: 0.984364\n",
      "343 Test accuracy: 0.938 Train accuracy: 0.985455\n",
      "344 Test accuracy: 0.9345 Train accuracy: 0.986\n",
      "345 Test accuracy: 0.9376 Train accuracy: 0.983455\n",
      "346 Test accuracy: 0.9372 Train accuracy: 0.986909\n",
      "347 Test accuracy: 0.937 Train accuracy: 0.986182\n",
      "348 Test accuracy: 0.9375 Train accuracy: 0.983091\n",
      "349 Test accuracy: 0.9363 Train accuracy: 0.987455\n",
      "350 Test accuracy: 0.9365 Train accuracy: 0.982909\n",
      "351 Test accuracy: 0.9371 Train accuracy: 0.986182\n",
      "352 Test accuracy: 0.9365 Train accuracy: 0.985455\n",
      "353 Test accuracy: 0.9337 Train accuracy: 0.983091\n",
      "354 Test accuracy: 0.937 Train accuracy: 0.986545\n",
      "355 Test accuracy: 0.9371 Train accuracy: 0.985455\n",
      "356 Test accuracy: 0.9364 Train accuracy: 0.986545\n",
      "357 Test accuracy: 0.9365 Train accuracy: 0.984\n",
      "358 Test accuracy: 0.9363 Train accuracy: 0.987273\n",
      "359 Test accuracy: 0.9367 Train accuracy: 0.985818\n",
      "360 Test accuracy: 0.9367 Train accuracy: 0.985818\n",
      "361 Test accuracy: 0.9359 Train accuracy: 0.986727\n",
      "362 Test accuracy: 0.9372 Train accuracy: 0.986182\n",
      "363 Test accuracy: 0.9357 Train accuracy: 0.986727\n",
      "364 Test accuracy: 0.9372 Train accuracy: 0.986364\n",
      "365 Test accuracy: 0.935 Train accuracy: 0.985636\n",
      "366 Test accuracy: 0.9343 Train accuracy: 0.986\n",
      "367 Test accuracy: 0.9368 Train accuracy: 0.986\n",
      "368 Test accuracy: 0.9367 Train accuracy: 0.988\n",
      "369 Test accuracy: 0.9356 Train accuracy: 0.986545\n",
      "370 Test accuracy: 0.9351 Train accuracy: 0.988182\n",
      "371 Test accuracy: 0.9355 Train accuracy: 0.986\n",
      "372 Test accuracy: 0.936 Train accuracy: 0.987273\n",
      "373 Test accuracy: 0.9354 Train accuracy: 0.986909\n",
      "374 Test accuracy: 0.9352 Train accuracy: 0.987091\n",
      "375 Test accuracy: 0.9364 Train accuracy: 0.988182\n",
      "376 Test accuracy: 0.937 Train accuracy: 0.987273\n",
      "377 Test accuracy: 0.9367 Train accuracy: 0.987455\n",
      "378 Test accuracy: 0.9359 Train accuracy: 0.987818\n",
      "379 Test accuracy: 0.9357 Train accuracy: 0.986545\n",
      "380 Test accuracy: 0.9366 Train accuracy: 0.988364\n",
      "381 Test accuracy: 0.9366 Train accuracy: 0.988364\n",
      "382 Test accuracy: 0.9352 Train accuracy: 0.986909\n",
      "383 Test accuracy: 0.9346 Train accuracy: 0.986545\n",
      "384 Test accuracy: 0.9373 Train accuracy: 0.986182\n",
      "385 Test accuracy: 0.937 Train accuracy: 0.986909\n",
      "386 Test accuracy: 0.9363 Train accuracy: 0.987636\n",
      "387 Test accuracy: 0.9363 Train accuracy: 0.986545\n",
      "388 Test accuracy: 0.9373 Train accuracy: 0.987091\n",
      "389 Test accuracy: 0.9347 Train accuracy: 0.986727\n",
      "390 Test accuracy: 0.9372 Train accuracy: 0.988727\n",
      "391 Test accuracy: 0.9381 Train accuracy: 0.986545\n",
      "392 Test accuracy: 0.9364 Train accuracy: 0.988545\n",
      "393 Test accuracy: 0.9357 Train accuracy: 0.985818\n",
      "394 Test accuracy: 0.9368 Train accuracy: 0.987091\n",
      "395 Test accuracy: 0.9362 Train accuracy: 0.989091\n",
      "396 Test accuracy: 0.9364 Train accuracy: 0.988364\n",
      "397 Test accuracy: 0.9373 Train accuracy: 0.988182\n",
      "398 Test accuracy: 0.935 Train accuracy: 0.987091\n",
      "399 Test accuracy: 0.9368 Train accuracy: 0.988727\n"
     ]
    }
   ],
   "source": [
    "init = tf.global_variables_initializer()\n",
    "saver = tf.train.Saver()\n",
    "\n",
    "with tf.Session() as sess:\n",
    "    init.run()\n",
    "    restore_saver.restore(sess, \"./my_model_stacked_denoising_gaussian.ckpt\")\n",
    "    \n",
    "    for epoch in range(n_epochs):\n",
    "        for X_batch, y_batch in shuffle_batch(X_train_selected, Y_train_selected, batch_size):\n",
    "            sess.run(training_op, feed_dict={new_X: X_batch, y: y_batch})\n",
    "        accuracy_test = accuracy.eval(feed_dict={new_X: X_test, y: Y_test})\n",
    "        accuracy_train = accuracy.eval(feed_dict={new_X: X_train_selected, y: Y_train_selected})\n",
    "        print(epoch, \"Test accuracy:\", accuracy_test, \"Train accuracy:\", accuracy_train)\n",
    "    \n",
    "    save_path = saver.save(sess, \"./my_model_classifier_with_autoencoder.ckpt\")"
   ]
  },
  {
   "cell_type": "code",
   "execution_count": null,
   "metadata": {},
   "outputs": [],
   "source": []
  },
  {
   "cell_type": "code",
   "execution_count": null,
   "metadata": {},
   "outputs": [],
   "source": []
  }
 ],
 "metadata": {
  "kernelspec": {
   "display_name": "Python 3",
   "language": "python",
   "name": "python3"
  },
  "language_info": {
   "codemirror_mode": {
    "name": "ipython",
    "version": 3
   },
   "file_extension": ".py",
   "mimetype": "text/x-python",
   "name": "python",
   "nbconvert_exporter": "python",
   "pygments_lexer": "ipython3",
   "version": "3.6.0"
  }
 },
 "nbformat": 4,
 "nbformat_minor": 2
}
