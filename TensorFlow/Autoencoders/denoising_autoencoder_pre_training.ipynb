{
 "cells": [
  {
   "cell_type": "code",
   "execution_count": 1,
   "metadata": {},
   "outputs": [],
   "source": [
    "import tensorflow as tf\n",
    "import numpy as np\n",
    "import sys\n",
    "import tqdm\n",
    "import matplotlib.pyplot as plt\n",
    "%matplotlib inline"
   ]
  },
  {
   "cell_type": "code",
   "execution_count": 2,
   "metadata": {},
   "outputs": [
    {
     "name": "stdout",
     "output_type": "stream",
     "text": [
      "Extracting MNIST-data/train-images-idx3-ubyte.gz\n",
      "Extracting MNIST-data/train-labels-idx1-ubyte.gz\n",
      "Extracting MNIST-data/t10k-images-idx3-ubyte.gz\n",
      "Extracting MNIST-data/t10k-labels-idx1-ubyte.gz\n"
     ]
    }
   ],
   "source": [
    "mnist = tf.contrib.learn.datasets.load_dataset(\"mnist\")"
   ]
  },
  {
   "cell_type": "code",
   "execution_count": 3,
   "metadata": {},
   "outputs": [],
   "source": [
    "train_data = mnist.train\n",
    "test_data = mnist.test"
   ]
  },
  {
   "cell_type": "code",
   "execution_count": 4,
   "metadata": {},
   "outputs": [],
   "source": [
    "#reincia o grafo sempre para o mesmo estado\n",
    "def reset_graph(seed=42):\n",
    "    tf.reset_default_graph()\n",
    "    tf.set_random_seed(seed)"
   ]
  },
  {
   "cell_type": "code",
   "execution_count": 5,
   "metadata": {},
   "outputs": [],
   "source": [
    "reset_graph()\n",
    "\n",
    "inputs_dim = 28*28\n",
    "n_hidden1 = 300\n",
    "n_hidden2 = 150\n",
    "n_hidden3 = n_hidden1\n",
    "n_outputs = inputs_dim\n",
    "\n",
    "learning_rate = 0.01"
   ]
  },
  {
   "cell_type": "markdown",
   "metadata": {},
   "source": [
    "Note que adicionamos um ruído gaussiano ao valor da nossa entrada. Nosso autoencoder deve aprender a remover esse ruído"
   ]
  },
  {
   "cell_type": "code",
   "execution_count": 6,
   "metadata": {},
   "outputs": [],
   "source": [
    "noise_level = 1.0\n",
    "\n",
    "X = tf.placeholder(tf.float32, shape=[None, inputs_dim])\n",
    "X_noisy = X + noise_level*tf.random_normal(tf.shape(X)) \n",
    "\n",
    "hidden1 = tf.layers.dense(X_noisy, n_hidden1, activation=tf.nn.relu, name=\"hidden1\")\n",
    "hidden2 = tf.layers.dense(hidden1, n_hidden2, activation=tf.nn.relu, name=\"hidden2\")\n",
    "hidden3 = tf.layers.dense(hidden2, n_hidden3, activation=tf.nn.relu, name=\"hidden3\")\n",
    "outputs = tf.layers.dense(hidden3, inputs_dim, name=\"outputs\") #linear default\n",
    "\n",
    "reconstruction_loss = tf.reduce_mean(tf.square(outputs - X))#MSE"
   ]
  },
  {
   "cell_type": "code",
   "execution_count": 7,
   "metadata": {},
   "outputs": [],
   "source": [
    "optimizer = tf.train.AdamOptimizer(learning_rate)\n",
    "training_op = optimizer.minimize(reconstruction_loss)"
   ]
  },
  {
   "cell_type": "code",
   "execution_count": 8,
   "metadata": {},
   "outputs": [],
   "source": [
    "init = tf.global_variables_initializer()\n",
    "saver = tf.train.Saver()"
   ]
  },
  {
   "cell_type": "markdown",
   "metadata": {},
   "source": [
    "Trainamento"
   ]
  },
  {
   "cell_type": "code",
   "execution_count": 16,
   "metadata": {},
   "outputs": [],
   "source": [
    "n_epochs = 40\n",
    "batch_size = 150"
   ]
  },
  {
   "cell_type": "code",
   "execution_count": 17,
   "metadata": {},
   "outputs": [
    {
     "name": "stderr",
     "output_type": "stream",
     "text": [
      "batches: 100%|██████████| 366/366 [00:08<00:00, 41.26it/s]\n",
      "batches:   0%|          | 0/366 [00:00<?, ?it/s]"
     ]
    },
    {
     "name": "stdout",
     "output_type": "stream",
     "text": [
      "0 Reconstruction loss:  0.0431434\n"
     ]
    },
    {
     "name": "stderr",
     "output_type": "stream",
     "text": [
      "batches: 100%|██████████| 366/366 [00:09<00:00, 40.57it/s]\n",
      "batches:   1%|          | 4/366 [00:00<00:09, 39.97it/s]"
     ]
    },
    {
     "name": "stdout",
     "output_type": "stream",
     "text": [
      "1 Reconstruction loss:  0.0394153\n"
     ]
    },
    {
     "name": "stderr",
     "output_type": "stream",
     "text": [
      "batches: 100%|██████████| 366/366 [00:08<00:00, 41.27it/s]\n",
      "batches:   1%|▏         | 5/366 [00:00<00:08, 42.06it/s]"
     ]
    },
    {
     "name": "stdout",
     "output_type": "stream",
     "text": [
      "2 Reconstruction loss:  0.0415741\n"
     ]
    },
    {
     "name": "stderr",
     "output_type": "stream",
     "text": [
      "batches: 100%|██████████| 366/366 [00:08<00:00, 41.25it/s]\n",
      "batches:   1%|▏         | 5/366 [00:00<00:08, 40.56it/s]"
     ]
    },
    {
     "name": "stdout",
     "output_type": "stream",
     "text": [
      "3 Reconstruction loss:  0.0393177\n"
     ]
    },
    {
     "name": "stderr",
     "output_type": "stream",
     "text": [
      "batches: 100%|██████████| 366/366 [00:08<00:00, 41.33it/s]\n",
      "batches:   1%|▏         | 5/366 [00:00<00:08, 41.59it/s]"
     ]
    },
    {
     "name": "stdout",
     "output_type": "stream",
     "text": [
      "4 Reconstruction loss:  0.0399604\n"
     ]
    },
    {
     "name": "stderr",
     "output_type": "stream",
     "text": [
      "batches: 100%|██████████| 366/366 [00:09<00:00, 40.06it/s]\n",
      "batches:   1%|          | 4/366 [00:00<00:09, 39.51it/s]"
     ]
    },
    {
     "name": "stdout",
     "output_type": "stream",
     "text": [
      "5 Reconstruction loss:  0.0391873\n"
     ]
    },
    {
     "name": "stderr",
     "output_type": "stream",
     "text": [
      "batches: 100%|██████████| 366/366 [00:08<00:00, 40.98it/s]\n",
      "batches:   1%|          | 4/366 [00:00<00:09, 39.59it/s]"
     ]
    },
    {
     "name": "stdout",
     "output_type": "stream",
     "text": [
      "6 Reconstruction loss:  0.0389928\n"
     ]
    },
    {
     "name": "stderr",
     "output_type": "stream",
     "text": [
      "batches: 100%|██████████| 366/366 [00:08<00:00, 41.10it/s]\n",
      "batches:   1%|          | 4/366 [00:00<00:09, 39.03it/s]"
     ]
    },
    {
     "name": "stdout",
     "output_type": "stream",
     "text": [
      "7 Reconstruction loss:  0.0391028\n"
     ]
    },
    {
     "name": "stderr",
     "output_type": "stream",
     "text": [
      "batches: 100%|██████████| 366/366 [00:08<00:00, 40.70it/s]\n",
      "batches:   1%|▏         | 5/366 [00:00<00:08, 41.59it/s]"
     ]
    },
    {
     "name": "stdout",
     "output_type": "stream",
     "text": [
      "8 Reconstruction loss:  0.0359118\n"
     ]
    },
    {
     "name": "stderr",
     "output_type": "stream",
     "text": [
      "batches: 100%|██████████| 366/366 [00:08<00:00, 41.08it/s]\n",
      "batches:   1%|▏         | 5/366 [00:00<00:08, 41.72it/s]"
     ]
    },
    {
     "name": "stdout",
     "output_type": "stream",
     "text": [
      "9 Reconstruction loss:  0.0389926\n"
     ]
    },
    {
     "name": "stderr",
     "output_type": "stream",
     "text": [
      "batches: 100%|██████████| 366/366 [00:08<00:00, 40.74it/s]\n",
      "batches:   1%|▏         | 5/366 [00:00<00:08, 40.74it/s]"
     ]
    },
    {
     "name": "stdout",
     "output_type": "stream",
     "text": [
      "10 Reconstruction loss:  0.0380119\n"
     ]
    },
    {
     "name": "stderr",
     "output_type": "stream",
     "text": [
      "batches: 100%|██████████| 366/366 [00:08<00:00, 41.04it/s]\n",
      "batches:   1%|          | 4/366 [00:00<00:09, 39.90it/s]"
     ]
    },
    {
     "name": "stdout",
     "output_type": "stream",
     "text": [
      "11 Reconstruction loss:  0.0381746\n"
     ]
    },
    {
     "name": "stderr",
     "output_type": "stream",
     "text": [
      "batches: 100%|██████████| 366/366 [00:09<00:00, 40.25it/s]\n",
      "batches:   1%|▏         | 5/366 [00:00<00:08, 41.74it/s]"
     ]
    },
    {
     "name": "stdout",
     "output_type": "stream",
     "text": [
      "12 Reconstruction loss:  0.0375809\n"
     ]
    },
    {
     "name": "stderr",
     "output_type": "stream",
     "text": [
      "batches: 100%|██████████| 366/366 [00:09<00:00, 40.47it/s]\n",
      "batches:   1%|          | 4/366 [00:00<00:09, 39.97it/s]"
     ]
    },
    {
     "name": "stdout",
     "output_type": "stream",
     "text": [
      "13 Reconstruction loss:  0.0384649\n"
     ]
    },
    {
     "name": "stderr",
     "output_type": "stream",
     "text": [
      "batches: 100%|██████████| 366/366 [00:09<00:00, 40.44it/s]\n",
      "batches:   1%|▏         | 5/366 [00:00<00:08, 42.67it/s]"
     ]
    },
    {
     "name": "stdout",
     "output_type": "stream",
     "text": [
      "14 Reconstruction loss:  0.0368264\n"
     ]
    },
    {
     "name": "stderr",
     "output_type": "stream",
     "text": [
      "batches: 100%|██████████| 366/366 [00:08<00:00, 41.22it/s]\n",
      "batches:   1%|▏         | 5/366 [00:00<00:08, 42.44it/s]"
     ]
    },
    {
     "name": "stdout",
     "output_type": "stream",
     "text": [
      "15 Reconstruction loss:  0.0411234\n"
     ]
    },
    {
     "name": "stderr",
     "output_type": "stream",
     "text": [
      "batches: 100%|██████████| 366/366 [00:09<00:00, 39.54it/s]\n",
      "batches:   1%|▏         | 5/366 [00:00<00:08, 41.58it/s]"
     ]
    },
    {
     "name": "stdout",
     "output_type": "stream",
     "text": [
      "16 Reconstruction loss:  0.0406777\n"
     ]
    },
    {
     "name": "stderr",
     "output_type": "stream",
     "text": [
      "batches: 100%|██████████| 366/366 [00:09<00:00, 38.60it/s]\n",
      "batches:   1%|          | 4/366 [00:00<00:10, 33.92it/s]"
     ]
    },
    {
     "name": "stdout",
     "output_type": "stream",
     "text": [
      "17 Reconstruction loss:  0.0354052\n"
     ]
    },
    {
     "name": "stderr",
     "output_type": "stream",
     "text": [
      "batches: 100%|██████████| 366/366 [00:09<00:00, 40.23it/s]\n",
      "batches:   1%|▏         | 5/366 [00:00<00:08, 41.33it/s]"
     ]
    },
    {
     "name": "stdout",
     "output_type": "stream",
     "text": [
      "18 Reconstruction loss:  0.0401448\n"
     ]
    },
    {
     "name": "stderr",
     "output_type": "stream",
     "text": [
      "batches: 100%|██████████| 366/366 [00:08<00:00, 40.73it/s]\n",
      "batches:   1%|▏         | 5/366 [00:00<00:08, 41.67it/s]"
     ]
    },
    {
     "name": "stdout",
     "output_type": "stream",
     "text": [
      "19 Reconstruction loss:  0.0393655\n"
     ]
    },
    {
     "name": "stderr",
     "output_type": "stream",
     "text": [
      "batches: 100%|██████████| 366/366 [00:08<00:00, 41.28it/s]\n",
      "batches:   1%|▏         | 5/366 [00:00<00:08, 42.17it/s]"
     ]
    },
    {
     "name": "stdout",
     "output_type": "stream",
     "text": [
      "20 Reconstruction loss:  0.0386181\n"
     ]
    },
    {
     "name": "stderr",
     "output_type": "stream",
     "text": [
      "batches: 100%|██████████| 366/366 [00:08<00:00, 41.05it/s]\n",
      "batches:   1%|▏         | 5/366 [00:00<00:08, 41.77it/s]"
     ]
    },
    {
     "name": "stdout",
     "output_type": "stream",
     "text": [
      "21 Reconstruction loss:  0.0378163\n"
     ]
    },
    {
     "name": "stderr",
     "output_type": "stream",
     "text": [
      "batches: 100%|██████████| 366/366 [00:08<00:00, 40.96it/s]\n",
      "batches:   1%|▏         | 5/366 [00:00<00:08, 41.81it/s]"
     ]
    },
    {
     "name": "stdout",
     "output_type": "stream",
     "text": [
      "22 Reconstruction loss:  0.0402845\n"
     ]
    },
    {
     "name": "stderr",
     "output_type": "stream",
     "text": [
      "batches: 100%|██████████| 366/366 [00:09<00:00, 40.17it/s]\n",
      "batches:   1%|▏         | 5/366 [00:00<00:08, 41.78it/s]"
     ]
    },
    {
     "name": "stdout",
     "output_type": "stream",
     "text": [
      "23 Reconstruction loss:  0.0395769\n"
     ]
    },
    {
     "name": "stderr",
     "output_type": "stream",
     "text": [
      "batches: 100%|██████████| 366/366 [00:09<00:00, 40.43it/s]\n",
      "batches:   1%|▏         | 5/366 [00:00<00:08, 41.72it/s]"
     ]
    },
    {
     "name": "stdout",
     "output_type": "stream",
     "text": [
      "24 Reconstruction loss:  0.0385514\n"
     ]
    },
    {
     "name": "stderr",
     "output_type": "stream",
     "text": [
      "batches: 100%|██████████| 366/366 [00:08<00:00, 41.21it/s]\n",
      "batches:   1%|          | 4/366 [00:00<00:09, 39.58it/s]"
     ]
    },
    {
     "name": "stdout",
     "output_type": "stream",
     "text": [
      "25 Reconstruction loss:  0.0375672\n"
     ]
    },
    {
     "name": "stderr",
     "output_type": "stream",
     "text": [
      "batches: 100%|██████████| 366/366 [00:08<00:00, 40.77it/s]\n",
      "batches:   1%|          | 4/366 [00:00<00:09, 39.27it/s]"
     ]
    },
    {
     "name": "stdout",
     "output_type": "stream",
     "text": [
      "26 Reconstruction loss:  0.0395302\n"
     ]
    },
    {
     "name": "stderr",
     "output_type": "stream",
     "text": [
      "batches: 100%|██████████| 366/366 [00:09<00:00, 38.82it/s]\n",
      "batches:   1%|          | 4/366 [00:00<00:09, 38.45it/s]"
     ]
    },
    {
     "name": "stdout",
     "output_type": "stream",
     "text": [
      "27 Reconstruction loss:  0.0384589\n"
     ]
    },
    {
     "name": "stderr",
     "output_type": "stream",
     "text": [
      "batches: 100%|██████████| 366/366 [00:08<00:00, 41.15it/s]\n",
      "batches:   1%|          | 4/366 [00:00<00:09, 39.29it/s]"
     ]
    },
    {
     "name": "stdout",
     "output_type": "stream",
     "text": [
      "28 Reconstruction loss:  0.0386016\n"
     ]
    },
    {
     "name": "stderr",
     "output_type": "stream",
     "text": [
      "batches: 100%|██████████| 366/366 [00:08<00:00, 40.79it/s]\n",
      "batches:   1%|▏         | 5/366 [00:00<00:08, 40.94it/s]"
     ]
    },
    {
     "name": "stdout",
     "output_type": "stream",
     "text": [
      "29 Reconstruction loss:  0.0394246\n"
     ]
    },
    {
     "name": "stderr",
     "output_type": "stream",
     "text": [
      "batches: 100%|██████████| 366/366 [00:08<00:00, 40.97it/s]\n",
      "batches:   1%|          | 4/366 [00:00<00:09, 38.19it/s]"
     ]
    },
    {
     "name": "stdout",
     "output_type": "stream",
     "text": [
      "30 Reconstruction loss:  0.0400366\n"
     ]
    },
    {
     "name": "stderr",
     "output_type": "stream",
     "text": [
      "batches: 100%|██████████| 366/366 [00:08<00:00, 41.21it/s]\n",
      "batches:   1%|▏         | 5/366 [00:00<00:08, 42.38it/s]"
     ]
    },
    {
     "name": "stdout",
     "output_type": "stream",
     "text": [
      "31 Reconstruction loss:  0.0380176\n"
     ]
    },
    {
     "name": "stderr",
     "output_type": "stream",
     "text": [
      "batches: 100%|██████████| 366/366 [00:08<00:00, 41.12it/s]\n",
      "batches:   1%|▏         | 5/366 [00:00<00:09, 40.03it/s]"
     ]
    },
    {
     "name": "stdout",
     "output_type": "stream",
     "text": [
      "32 Reconstruction loss:  0.0383682\n"
     ]
    },
    {
     "name": "stderr",
     "output_type": "stream",
     "text": [
      "batches: 100%|██████████| 366/366 [00:08<00:00, 41.03it/s]\n",
      "batches:   1%|▏         | 5/366 [00:00<00:08, 41.56it/s]"
     ]
    },
    {
     "name": "stdout",
     "output_type": "stream",
     "text": [
      "33 Reconstruction loss:  0.0400142\n"
     ]
    },
    {
     "name": "stderr",
     "output_type": "stream",
     "text": [
      "batches: 100%|██████████| 366/366 [00:09<00:00, 39.28it/s]\n",
      "batches:   1%|          | 4/366 [00:00<00:10, 34.20it/s]"
     ]
    },
    {
     "name": "stdout",
     "output_type": "stream",
     "text": [
      "34 Reconstruction loss:  0.0373565\n"
     ]
    },
    {
     "name": "stderr",
     "output_type": "stream",
     "text": [
      "batches: 100%|██████████| 366/366 [00:09<00:00, 38.34it/s]\n",
      "batches:   0%|          | 0/366 [00:00<?, ?it/s]"
     ]
    },
    {
     "name": "stdout",
     "output_type": "stream",
     "text": [
      "35 Reconstruction loss:  0.0385725\n"
     ]
    },
    {
     "name": "stderr",
     "output_type": "stream",
     "text": [
      "batches: 100%|██████████| 366/366 [00:09<00:00, 39.32it/s]\n",
      "batches:   1%|▏         | 5/366 [00:00<00:08, 41.03it/s]"
     ]
    },
    {
     "name": "stdout",
     "output_type": "stream",
     "text": [
      "36 Reconstruction loss:  0.0382787\n"
     ]
    },
    {
     "name": "stderr",
     "output_type": "stream",
     "text": [
      "batches: 100%|██████████| 366/366 [00:08<00:00, 40.86it/s]\n",
      "batches:   1%|▏         | 5/366 [00:00<00:08, 41.38it/s]"
     ]
    },
    {
     "name": "stdout",
     "output_type": "stream",
     "text": [
      "37 Reconstruction loss:  0.0385193\n"
     ]
    },
    {
     "name": "stderr",
     "output_type": "stream",
     "text": [
      "batches: 100%|██████████| 366/366 [00:08<00:00, 41.19it/s]\n",
      "batches:   1%|▏         | 5/366 [00:00<00:08, 40.41it/s]"
     ]
    },
    {
     "name": "stdout",
     "output_type": "stream",
     "text": [
      "38 Reconstruction loss:  0.0379605\n"
     ]
    },
    {
     "name": "stderr",
     "output_type": "stream",
     "text": [
      "batches: 100%|██████████| 366/366 [00:08<00:00, 40.89it/s]"
     ]
    },
    {
     "name": "stdout",
     "output_type": "stream",
     "text": [
      "39 Reconstruction loss:  0.0397086\n"
     ]
    },
    {
     "name": "stderr",
     "output_type": "stream",
     "text": [
      "\n"
     ]
    }
   ],
   "source": [
    "with tf.Session() as sess:\n",
    "    init.run()\n",
    "    for epoch in range(n_epochs):\n",
    "        n_batches = mnist.train.num_examples // batch_size\n",
    "        for iteration in tqdm.trange(n_batches, desc=\"batches\"):\n",
    "            X_batch, y_batch = train_data.next_batch(batch_size)\n",
    "            sess.run(training_op, feed_dict={X: X_batch})\n",
    "        loss_train = reconstruction_loss.eval(feed_dict={X: X_batch})\n",
    "        print(\"\\r{}\".format(epoch), \"Reconstruction loss: \", loss_train)\n",
    "        saver.save(sess, \"./my_model_stacked_denoising_gaussian.ckpt\")            "
   ]
  },
  {
   "cell_type": "code",
   "execution_count": 18,
   "metadata": {},
   "outputs": [],
   "source": [
    "def plot_image(image, shape=[28, 28]):\n",
    "    plt.imshow(image.reshape(shape), cmap=\"Greys\", interpolation=\"nearest\")\n",
    "    plt.axis=\"off\""
   ]
  },
  {
   "cell_type": "code",
   "execution_count": 19,
   "metadata": {},
   "outputs": [
    {
     "name": "stdout",
     "output_type": "stream",
     "text": [
      "INFO:tensorflow:Restoring parameters from ./my_model_stacked_denoising_gaussian.ckpt\n"
     ]
    }
   ],
   "source": [
    "with tf.Session() as sess:\n",
    "    saver.restore(sess, \"./my_model_stacked_denoising_gaussian.ckpt\")\n",
    "    reconstructed_data = outputs.eval(feed_dict = {X: test_data.images})\n",
    "    noisy_data = X_noisy.eval(feed_dict = {X: test_data.images})"
   ]
  },
  {
   "cell_type": "markdown",
   "metadata": {},
   "source": [
    "Vamos utilizar nosso conjunto de teste para verificarmos a capacidade do nosso autoencoder reconstruir um exemplo"
   ]
  },
  {
   "cell_type": "code",
   "execution_count": 20,
   "metadata": {},
   "outputs": [
    {
     "data": {
      "image/png": "[encoded data removed]",
      "text/plain": [
       "<matplotlib.figure.Figure at 0x10a08c978>"
      ]
     },
     "metadata": {},
     "output_type": "display_data"
    }
   ],
   "source": [
    "plot_image(reconstructed_data[0])"
   ]
  },
  {
   "cell_type": "markdown",
   "metadata": {},
   "source": [
    "Abaixo temos a imagem com ruído"
   ]
  },
  {
   "cell_type": "code",
   "execution_count": 21,
   "metadata": {},
   "outputs": [
    {
     "data": {
      "image/png": "[encoded data removed]",
      "text/plain": [
       "<matplotlib.figure.Figure at 0x10a25dda0>"
      ]
     },
     "metadata": {},
     "output_type": "display_data"
    }
   ],
   "source": [
    "plot_image(noisy_data[0])"
   ]
  },
  {
   "cell_type": "markdown",
   "metadata": {},
   "source": [
    "e a imagem original"
   ]
  },
  {
   "cell_type": "code",
   "execution_count": 22,
   "metadata": {},
   "outputs": [
    {
     "data": {
      "image/png": "[encoded data removed]",
      "text/plain": [
       "<matplotlib.figure.Figure at 0x11a186048>"
      ]
     },
     "metadata": {},
     "output_type": "display_data"
    }
   ],
   "source": [
    "plot_image(mnist.test.images[0])"
   ]
  },
  {
   "cell_type": "markdown",
   "metadata": {},
   "source": [
    "Vamos usar essa mesma imagem para vermos quais features nosso autoencoder aprender nas camadas mais baixas. Para isso precisamos obter os pesos da camada mais baixa."
   ]
  },
  {
   "cell_type": "code",
   "execution_count": 23,
   "metadata": {},
   "outputs": [],
   "source": [
    "def get_weights():\n",
    "    return [v for v in tf.get_collection(tf.GraphKeys.TRAINABLE_VARIABLES) \n",
    "            if v.name.endswith('kernel:0')] #obtem apenas os weights, ignorando bias"
   ]
  },
  {
   "cell_type": "code",
   "execution_count": 24,
   "metadata": {},
   "outputs": [
    {
     "name": "stdout",
     "output_type": "stream",
     "text": [
      "INFO:tensorflow:Restoring parameters from ./my_model_stacked_denoising_gaussian.ckpt\n"
     ]
    }
   ],
   "source": [
    "with tf.Session() as sess:\n",
    "    saver.restore(sess, \"./my_model_stacked_denoising_gaussian.ckpt\")\n",
    "    features1 = sess.run(get_weights())"
   ]
  },
  {
   "cell_type": "markdown",
   "metadata": {},
   "source": [
    "Abaixo podemos ver as features obtidas por 25 neurônios da primeira camada"
   ]
  },
  {
   "cell_type": "code",
   "execution_count": 25,
   "metadata": {},
   "outputs": [
    {
     "data": {
      "image/png": "[encoded data removed]",
      "text/plain": [
       "<matplotlib.figure.Figure at 0x11a191358>"
      ]
     },
     "metadata": {},
     "output_type": "display_data"
    }
   ],
   "source": [
    "plt.figure(figsize=(10,10))\n",
    "for i in range(25):\n",
    "    plt.subplot(5, 5, i+1)\n",
    "    plot_image(features1[0].T[i])\n",
    "plt.show()"
   ]
  },
  {
   "cell_type": "markdown",
   "metadata": {},
   "source": [
    "Agora podemos usar camadas deste modelo para treinarmos um classificador com menos dados"
   ]
  },
  {
   "cell_type": "markdown",
   "metadata": {},
   "source": [
    "Vamos ver a estrutura do noss modelo"
   ]
  },
  {
   "cell_type": "markdown",
   "metadata": {},
   "source": [
    "As camadas úteias para treinarmos um classificador são a 1 e 2"
   ]
  },
  {
   "cell_type": "code",
   "execution_count": 26,
   "metadata": {},
   "outputs": [],
   "source": [
    "reset_graph()\n",
    "\n",
    "inputs_dim = 28*28\n",
    "n_hidden1 = 300\n",
    "n_hidden2 = 150\n",
    "n_hidden3 = 150\n",
    "\n",
    "n_outputs = 10"
   ]
  },
  {
   "cell_type": "code",
   "execution_count": 27,
   "metadata": {},
   "outputs": [],
   "source": [
    "X_train = mnist.train.images\n",
    "Y_train = mnist.train.labels\n",
    "X_test = mnist.test.images\n",
    "Y_test = mnist.test.labels"
   ]
  },
  {
   "cell_type": "code",
   "execution_count": 28,
   "metadata": {},
   "outputs": [],
   "source": [
    "X_train_selected = X_train[:5500] #10%\n",
    "Y_train_selected = Y_train[:5500]"
   ]
  },
  {
   "cell_type": "code",
   "execution_count": 29,
   "metadata": {},
   "outputs": [],
   "source": [
    "new_X = tf.placeholder(tf.float32, shape=[None, inputs_dim], name=\"new_X\")\n",
    "y = tf.placeholder(tf.int32, shape=(None), name=\"y\")"
   ]
  },
  {
   "cell_type": "code",
   "execution_count": 30,
   "metadata": {},
   "outputs": [],
   "source": [
    "hidden1 = tf.layers.dense(new_X, n_hidden1, activation=tf.nn.relu, name=\"hidden1\")\n",
    "hidden2 = tf.layers.dense(hidden1, n_hidden2, activation=tf.nn.relu, name=\"hidden2\")\n",
    "hidden3 = tf.layers.dense(hidden2, n_hidden3, activation=tf.nn.relu, name=\"hidden3\")\n",
    "logits = tf.layers.dense(hidden3, n_outputs, activation=None, name=\"logits\")"
   ]
  },
  {
   "cell_type": "code",
   "execution_count": 31,
   "metadata": {},
   "outputs": [],
   "source": [
    "xentropy = tf.nn.sparse_softmax_cross_entropy_with_logits(labels=y, logits=logits)\n",
    "loss = tf.reduce_mean(xentropy, name=\"loss\")"
   ]
  },
  {
   "cell_type": "code",
   "execution_count": 32,
   "metadata": {},
   "outputs": [],
   "source": [
    "correct = tf.nn.in_top_k(logits, y, 1)\n",
    "accuracy = tf.reduce_mean(tf.cast(correct, tf.float32), name=\"accuracy\")"
   ]
  },
  {
   "cell_type": "code",
   "execution_count": 33,
   "metadata": {},
   "outputs": [],
   "source": [
    "optimizer = tf.train.AdamOptimizer()\n",
    "train_vars = tf.get_collection(tf.GraphKeys.TRAINABLE_VARIABLES, scope=\"hidden[3]\")\n",
    "training_op = optimizer.minimize(loss)"
   ]
  },
  {
   "cell_type": "code",
   "execution_count": 34,
   "metadata": {},
   "outputs": [],
   "source": [
    "reuse_vars = tf.get_collection(tf.GraphKeys.GLOBAL_VARIABLES, scope=\"hidden[12]\")\n",
    "restore_saver = tf.train.Saver(reuse_vars)"
   ]
  },
  {
   "cell_type": "code",
   "execution_count": 35,
   "metadata": {},
   "outputs": [],
   "source": [
    "init = tf.global_variables_initializer()\n",
    "saver = tf.train.Saver()"
   ]
  },
  {
   "cell_type": "code",
   "execution_count": 39,
   "metadata": {},
   "outputs": [],
   "source": [
    "batch_size = 50\n",
    "n_epochs = 100"
   ]
  },
  {
   "cell_type": "code",
   "execution_count": 40,
   "metadata": {},
   "outputs": [],
   "source": [
    "def shuffle_batch(X, y, batch_size):\n",
    "    rnd_idx = np.random.permutation(len(X))\n",
    "    n_batches = len(X) // batch_size\n",
    "    for batch_idx in np.array_split(rnd_idx, n_batches):\n",
    "        X_batch, y_batch = X[batch_idx], y[batch_idx]\n",
    "        yield X_batch, y_batch"
   ]
  },
  {
   "cell_type": "code",
   "execution_count": 41,
   "metadata": {},
   "outputs": [
    {
     "name": "stdout",
     "output_type": "stream",
     "text": [
      "INFO:tensorflow:Restoring parameters from ./my_model_stacked_denoising_gaussian.ckpt\n",
      "0 Test accuracy: 0.8732\n",
      "1 Test accuracy: 0.8995\n",
      "2 Test accuracy: 0.9098\n",
      "3 Test accuracy: 0.9144\n",
      "4 Test accuracy: 0.9181\n",
      "5 Test accuracy: 0.918\n",
      "6 Test accuracy: 0.924\n",
      "7 Test accuracy: 0.9241\n",
      "8 Test accuracy: 0.9268\n",
      "9 Test accuracy: 0.9262\n",
      "10 Test accuracy: 0.9236\n",
      "11 Test accuracy: 0.9275\n",
      "12 Test accuracy: 0.9292\n",
      "13 Test accuracy: 0.9288\n",
      "14 Test accuracy: 0.9315\n",
      "15 Test accuracy: 0.9303\n",
      "16 Test accuracy: 0.9315\n",
      "17 Test accuracy: 0.9333\n",
      "18 Test accuracy: 0.9346\n",
      "19 Test accuracy: 0.9302\n",
      "20 Test accuracy: 0.9319\n",
      "21 Test accuracy: 0.9359\n",
      "22 Test accuracy: 0.9322\n",
      "23 Test accuracy: 0.9346\n",
      "24 Test accuracy: 0.9368\n",
      "25 Test accuracy: 0.9359\n",
      "26 Test accuracy: 0.9367\n",
      "27 Test accuracy: 0.9375\n",
      "28 Test accuracy: 0.9352\n",
      "29 Test accuracy: 0.9363\n",
      "30 Test accuracy: 0.9357\n",
      "31 Test accuracy: 0.9371\n",
      "32 Test accuracy: 0.9388\n",
      "33 Test accuracy: 0.9375\n",
      "34 Test accuracy: 0.9386\n",
      "35 Test accuracy: 0.9365\n",
      "36 Test accuracy: 0.9362\n",
      "37 Test accuracy: 0.9336\n",
      "38 Test accuracy: 0.9371\n",
      "39 Test accuracy: 0.9375\n",
      "40 Test accuracy: 0.9373\n",
      "41 Test accuracy: 0.9378\n",
      "42 Test accuracy: 0.9362\n",
      "43 Test accuracy: 0.9353\n",
      "44 Test accuracy: 0.9375\n",
      "45 Test accuracy: 0.9393\n",
      "46 Test accuracy: 0.9387\n",
      "47 Test accuracy: 0.9382\n",
      "48 Test accuracy: 0.9392\n",
      "49 Test accuracy: 0.9391\n",
      "50 Test accuracy: 0.9384\n",
      "51 Test accuracy: 0.9383\n",
      "52 Test accuracy: 0.9384\n",
      "53 Test accuracy: 0.9378\n",
      "54 Test accuracy: 0.9387\n",
      "55 Test accuracy: 0.938\n",
      "56 Test accuracy: 0.9381\n",
      "57 Test accuracy: 0.9384\n",
      "58 Test accuracy: 0.9377\n",
      "59 Test accuracy: 0.9382\n",
      "60 Test accuracy: 0.9385\n",
      "61 Test accuracy: 0.9382\n",
      "62 Test accuracy: 0.9384\n",
      "63 Test accuracy: 0.9392\n",
      "64 Test accuracy: 0.939\n",
      "65 Test accuracy: 0.9388\n",
      "66 Test accuracy: 0.939\n",
      "67 Test accuracy: 0.9397\n",
      "68 Test accuracy: 0.9398\n",
      "69 Test accuracy: 0.9394\n",
      "70 Test accuracy: 0.9381\n",
      "71 Test accuracy: 0.9387\n",
      "72 Test accuracy: 0.9375\n",
      "73 Test accuracy: 0.9395\n",
      "74 Test accuracy: 0.939\n",
      "75 Test accuracy: 0.9386\n",
      "76 Test accuracy: 0.9394\n",
      "77 Test accuracy: 0.9397\n",
      "78 Test accuracy: 0.9397\n",
      "79 Test accuracy: 0.939\n",
      "80 Test accuracy: 0.9392\n",
      "81 Test accuracy: 0.9392\n",
      "82 Test accuracy: 0.9391\n",
      "83 Test accuracy: 0.9383\n",
      "84 Test accuracy: 0.9404\n",
      "85 Test accuracy: 0.939\n",
      "86 Test accuracy: 0.94\n",
      "87 Test accuracy: 0.9402\n",
      "88 Test accuracy: 0.9394\n",
      "89 Test accuracy: 0.9398\n",
      "90 Test accuracy: 0.9397\n",
      "91 Test accuracy: 0.9393\n",
      "92 Test accuracy: 0.939\n",
      "93 Test accuracy: 0.9395\n",
      "94 Test accuracy: 0.9394\n",
      "95 Test accuracy: 0.9396\n",
      "96 Test accuracy: 0.9394\n",
      "97 Test accuracy: 0.9393\n",
      "98 Test accuracy: 0.9395\n",
      "99 Test accuracy: 0.9397\n"
     ]
    }
   ],
   "source": [
    "reuse_vars = tf.get_collection(tf.GraphKeys.GLOBAL_VARIABLES,\n",
    "                               scope=\"hidden[12]\") # regular expression\n",
    "restore_saver = tf.train.Saver(reuse_vars) # to restore layers 1-3\n",
    "\n",
    "init = tf.global_variables_initializer()\n",
    "saver = tf.train.Saver()\n",
    "\n",
    "with tf.Session() as sess:\n",
    "    init.run()\n",
    "    restore_saver.restore(sess, \"./my_model_stacked_denoising_gaussian.ckpt\")\n",
    "    \n",
    "    for epoch in range(n_epochs):\n",
    "        for X_batch, y_batch in shuffle_batch(X_train_selected, Y_train_selected, batch_size):\n",
    "            sess.run(training_op, feed_dict={new_X: X_batch, y: y_batch})\n",
    "        accuracy_test = accuracy.eval(feed_dict={new_X: X_test, y: Y_test})\n",
    "        print(epoch, \"Test accuracy:\", accuracy_test)\n",
    "    \n",
    "    save_path = saver.save(sess, \"./my_model_classifier_with_autoencoder.ckpt\")"
   ]
  },
  {
   "cell_type": "code",
   "execution_count": null,
   "metadata": {},
   "outputs": [],
   "source": []
  },
  {
   "cell_type": "code",
   "execution_count": null,
   "metadata": {},
   "outputs": [],
   "source": []
  }
 ],
 "metadata": {
  "kernelspec": {
   "display_name": "Python 3",
   "language": "python",
   "name": "python3"
  },
  "language_info": {
   "codemirror_mode": {
    "name": "ipython",
    "version": 3
   },
   "file_extension": ".py",
   "mimetype": "text/x-python",
   "name": "python",
   "nbconvert_exporter": "python",
   "pygments_lexer": "ipython3",
   "version": "3.6.0"
  }
 },
 "nbformat": 4,
 "nbformat_minor": 2
}
