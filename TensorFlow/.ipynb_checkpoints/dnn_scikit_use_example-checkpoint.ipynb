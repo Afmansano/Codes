{
 "cells": [
  {
   "cell_type": "code",
   "execution_count": 1,
   "metadata": {},
   "outputs": [],
   "source": [
    "import tensorflow as tf\n",
    "import numpy as np\n",
    "\n",
    "from dnn_scikit_model import DNNClassifier"
   ]
  },
  {
   "cell_type": "code",
   "execution_count": 2,
   "metadata": {},
   "outputs": [],
   "source": [
    "dnn = DNNClassifier(random_state=42)"
   ]
  },
  {
   "cell_type": "code",
   "execution_count": 3,
   "metadata": {},
   "outputs": [
    {
     "name": "stdout",
     "output_type": "stream",
     "text": [
      "Extracting MNIST-data/train-images-idx3-ubyte.gz\n",
      "Extracting MNIST-data/train-labels-idx1-ubyte.gz\n",
      "Extracting MNIST-data/t10k-images-idx3-ubyte.gz\n",
      "Extracting MNIST-data/t10k-labels-idx1-ubyte.gz\n"
     ]
    }
   ],
   "source": [
    "mnist = tf.contrib.learn.datasets.load_dataset(\"mnist\")\n",
    "train_data = mnist.train.images # Returns np.array\n",
    "train_labels = np.asarray(mnist.train.labels, dtype=np.int32)\n",
    "eval_data = mnist.test.images # Returns np.array\n",
    "eval_labels = np.asarray(mnist.test.labels, dtype=np.int32)"
   ]
  },
  {
   "cell_type": "code",
   "execution_count": 4,
   "metadata": {},
   "outputs": [],
   "source": [
    "X_valid, X_train = train_data[:5000], train_data[5000:]\n",
    "y_valid, y_train = train_labels[:5000], train_labels[5000:]"
   ]
  },
  {
   "cell_type": "code",
   "execution_count": 5,
   "metadata": {},
   "outputs": [],
   "source": [
    "X_train1 = X_train[y_train < 5]\n",
    "y_train1 = y_train[y_train < 5]\n",
    "X_valid1 = X_valid[y_valid < 5]\n",
    "y_valid1 = y_valid[y_valid < 5]\n",
    "X_test1 = eval_data[eval_labels < 5]\n",
    "y_test1 = eval_labels[eval_labels < 5]"
   ]
  },
  {
   "cell_type": "code",
   "execution_count": 6,
   "metadata": {},
   "outputs": [
    {
     "name": "stdout",
     "output_type": "stream",
     "text": [
      "2\tValidation loss: 0.089870\tBest loss: 0.076648\tAccuracy: 97.78%\n",
      "4\tValidation loss: 0.077294\tBest loss: 0.048289\tAccuracy: 98.29%\n",
      "5\tValidation loss: 0.078169\tBest loss: 0.048289\tAccuracy: 97.86%\n",
      "6\tValidation loss: 0.079265\tBest loss: 0.048289\tAccuracy: 97.75%\n",
      "7\tValidation loss: 0.081212\tBest loss: 0.048289\tAccuracy: 97.90%\n",
      "8\tValidation loss: 0.111861\tBest loss: 0.048289\tAccuracy: 97.16%\n",
      "9\tValidation loss: 0.077310\tBest loss: 0.048289\tAccuracy: 97.71%\n",
      "10\tValidation loss: 0.068588\tBest loss: 0.048289\tAccuracy: 98.25%\n",
      "11\tValidation loss: 0.060865\tBest loss: 0.048289\tAccuracy: 98.33%\n",
      "12\tValidation loss: 0.048535\tBest loss: 0.048289\tAccuracy: 98.72%\n",
      "13\tValidation loss: 0.062110\tBest loss: 0.048289\tAccuracy: 98.37%\n",
      "14\tValidation loss: 0.068124\tBest loss: 0.048289\tAccuracy: 98.33%\n",
      "15\tValidation loss: 0.065718\tBest loss: 0.048289\tAccuracy: 98.48%\n",
      "16\tValidation loss: 0.092329\tBest loss: 0.048289\tAccuracy: 97.71%\n",
      "17\tValidation loss: 0.090426\tBest loss: 0.048289\tAccuracy: 97.78%\n",
      "18\tValidation loss: 0.057590\tBest loss: 0.048289\tAccuracy: 98.29%\n",
      "19\tValidation loss: 0.074692\tBest loss: 0.048289\tAccuracy: 97.98%\n",
      "20\tValidation loss: 0.104755\tBest loss: 0.048289\tAccuracy: 98.25%\n",
      "21\tValidation loss: 0.076812\tBest loss: 0.048289\tAccuracy: 97.90%\n",
      "22\tValidation loss: 0.111866\tBest loss: 0.048289\tAccuracy: 97.55%\n",
      "23\tValidation loss: 0.063104\tBest loss: 0.048289\tAccuracy: 98.06%\n",
      "24\tValidation loss: 0.080724\tBest loss: 0.048289\tAccuracy: 98.45%\n",
      "Early stopping!\n"
     ]
    },
    {
     "data": {
      "text/plain": [
       "DNNClassifier(activation=<function elu at 0x10e9e6620>,\n",
       "       batch_norm_momentum=None, batch_size=20, dropout_rate=None,\n",
       "       learning_rate=0.001, n_hidden_layers=5, n_neurons=100,\n",
       "       optimizer=<class 'tensorflow.python.training.adam.AdamOptimizer'>,\n",
       "       random_state=42)"
      ]
     },
     "execution_count": 6,
     "metadata": {},
     "output_type": "execute_result"
    }
   ],
   "source": [
    "dnn.fit(X_train1, y_train1, n_epochs=1000, X_valid=X_valid1, y_valid=y_valid1)"
   ]
  },
  {
   "cell_type": "code",
   "execution_count": 7,
   "metadata": {},
   "outputs": [],
   "source": [
    "from sklearn.metrics import accuracy_score"
   ]
  },
  {
   "cell_type": "code",
   "execution_count": 8,
   "metadata": {},
   "outputs": [],
   "source": [
    "y_pred = dnn.predict(X_test1)"
   ]
  },
  {
   "cell_type": "code",
   "execution_count": 10,
   "metadata": {},
   "outputs": [
    {
     "data": {
      "text/plain": [
       "0.99163261334890052"
      ]
     },
     "execution_count": 10,
     "metadata": {},
     "output_type": "execute_result"
    }
   ],
   "source": [
    "accuracy_score(y_test1, y_pred)"
   ]
  },
  {
   "cell_type": "code",
   "execution_count": null,
   "metadata": {},
   "outputs": [],
   "source": []
  }
 ],
 "metadata": {
  "kernelspec": {
   "display_name": "Python 3",
   "language": "python",
   "name": "python3"
  },
  "language_info": {
   "codemirror_mode": {
    "name": "ipython",
    "version": 3
   },
   "file_extension": ".py",
   "mimetype": "text/x-python",
   "name": "python",
   "nbconvert_exporter": "python",
   "pygments_lexer": "ipython3",
   "version": "3.6.0"
  }
 },
 "nbformat": 4,
 "nbformat_minor": 2
}
