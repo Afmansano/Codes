{
 "cells": [
  {
   "cell_type": "code",
   "execution_count": 65,
   "metadata": {},
   "outputs": [],
   "source": [
    "import tensorflow as tf\n",
    "import matplotlib.pyplot as plt\n",
    "from tensorflow.contrib.layers import fully_connected\n",
    "\n",
    "%matplotlib inline"
   ]
  },
  {
   "cell_type": "code",
   "execution_count": 14,
   "metadata": {},
   "outputs": [],
   "source": [
    "he_init = tf.contrib.layers.variance_scaling_initializer()"
   ]
  },
  {
   "cell_type": "code",
   "execution_count": 25,
   "metadata": {},
   "outputs": [],
   "source": [
    "def get_dnn_layers(inputs, name=\"dnn\", n_neurons=100):\n",
    "    with tf.variable_scope(name):\n",
    "        for layer in range(5):\n",
    "            inputs = fully_connected(inputs, n_neurons, \n",
    "                                     activation_fn=tf.nn.elu,\n",
    "                                     weights_initializer=he_init,\n",
    "                                     scope=\"hidden%d\" % (layer+1))\n",
    "    return inputs"
   ]
  },
  {
   "cell_type": "markdown",
   "metadata": {},
   "source": [
    "Vamos criar um placeholder para armazenar cada par de imagens, depois utilizamos a função untack para separá-los. Assim a entrada do nosso código fica mais transparente"
   ]
  },
  {
   "cell_type": "code",
   "execution_count": 30,
   "metadata": {},
   "outputs": [],
   "source": [
    "n_inputs = 28*28\n",
    "\n",
    "tf.reset_default_graph()\n",
    "X = tf.placeholder(tf.float32, shape=(None, 2, n_inputs), name=\"X\")\n",
    "X1, X2 = tf.unstack(X, axis=1)"
   ]
  },
  {
   "cell_type": "markdown",
   "metadata": {},
   "source": [
    "Precisamos de um placeholder para nossas labels, que serão 0 se o par de imagens for diferente e 1 se elas forem iguais"
   ]
  },
  {
   "cell_type": "code",
   "execution_count": 31,
   "metadata": {},
   "outputs": [],
   "source": [
    "y = tf.placeholder(tf.int32, shape=[None, 1])"
   ]
  },
  {
   "cell_type": "code",
   "execution_count": 32,
   "metadata": {},
   "outputs": [],
   "source": [
    "dnn1 = get_dnn_layers(X1, name=\"DNN_A\")\n",
    "dnn2 = get_dnn_layers(X2, name=\"DNN_B\")"
   ]
  },
  {
   "cell_type": "markdown",
   "metadata": {},
   "source": [
    "Agora vamos concatenar a saída das duas redes"
   ]
  },
  {
   "cell_type": "code",
   "execution_count": 45,
   "metadata": {},
   "outputs": [],
   "source": [
    "dnn_outputs = tf.concat([dnn1, dnn2], axis=1)"
   ]
  },
  {
   "cell_type": "markdown",
   "metadata": {},
   "source": [
    "Cada DNN tem 100 neurônios de saída, então a DNN final terá 200"
   ]
  },
  {
   "cell_type": "code",
   "execution_count": 46,
   "metadata": {},
   "outputs": [
    {
     "data": {
      "text/plain": [
       "TensorShape([Dimension(None), Dimension(100)])"
      ]
     },
     "execution_count": 46,
     "metadata": {},
     "output_type": "execute_result"
    }
   ],
   "source": [
    "dnn1.shape"
   ]
  },
  {
   "cell_type": "code",
   "execution_count": 47,
   "metadata": {},
   "outputs": [
    {
     "data": {
      "text/plain": [
       "TensorShape([Dimension(None), Dimension(100)])"
      ]
     },
     "execution_count": 47,
     "metadata": {},
     "output_type": "execute_result"
    }
   ],
   "source": [
    "dnn2.shape"
   ]
  },
  {
   "cell_type": "code",
   "execution_count": 48,
   "metadata": {},
   "outputs": [
    {
     "data": {
      "text/plain": [
       "TensorShape([Dimension(None), Dimension(200)])"
      ]
     },
     "execution_count": 48,
     "metadata": {},
     "output_type": "execute_result"
    }
   ],
   "source": [
    "dnn_outputs.shape"
   ]
  },
  {
   "cell_type": "markdown",
   "metadata": {},
   "source": [
    "Vamos adicionar uma camada com 10 neurônios acima destas duas"
   ]
  },
  {
   "cell_type": "code",
   "execution_count": 50,
   "metadata": {},
   "outputs": [],
   "source": [
    "hidden = fully_connected(dnn_outputs, 10, activation_fn=tf.nn.elu, weights_initializer=he_init)\n",
    "logits = fully_connected(hidden, 1, activation_fn=None, weights_initializer=he_init)\n",
    "y_proba = tf.nn.sigmoid(logits)"
   ]
  },
  {
   "cell_type": "markdown",
   "metadata": {},
   "source": [
    "A rede neural prediz 1 se y_proba >=0.5. Nós utilizamos 1 se logits>=0, o que nos fornece o mesmo resultado, porém é calculado de maneira mais rápida."
   ]
  },
  {
   "cell_type": "code",
   "execution_count": 51,
   "metadata": {},
   "outputs": [],
   "source": [
    "y_pred = tf.cast(tf.greater_equal(logits, 0), tf.int32)"
   ]
  },
  {
   "cell_type": "code",
   "execution_count": 52,
   "metadata": {},
   "outputs": [],
   "source": [
    "y_as_float = tf.cast(y, tf.float32)\n",
    "xentropy = tf.nn.sigmoid_cross_entropy_with_logits(labels=y_as_float, logits=logits)\n",
    "loss = tf.reduce_mean(xentropy)"
   ]
  },
  {
   "cell_type": "code",
   "execution_count": 54,
   "metadata": {},
   "outputs": [],
   "source": [
    "learning_rate = 0.01\n",
    "momentum = 0.95\n",
    "\n",
    "optimizer = tf.train.MomentumOptimizer(learning_rate, momentum, use_nesterov=True)\n",
    "training_op = optimizer.minimize(loss)"
   ]
  },
  {
   "cell_type": "code",
   "execution_count": 55,
   "metadata": {},
   "outputs": [],
   "source": [
    "y_pred_correct = tf.equal(y_pred, y)\n",
    "accuracy = tf.reduce_mean(tf.cast(y_pred_correct, tf.float32))"
   ]
  },
  {
   "cell_type": "code",
   "execution_count": 56,
   "metadata": {},
   "outputs": [],
   "source": [
    "init = tf.global_variables_initializer()\n",
    "saver = tf.train.Saver()"
   ]
  },
  {
   "cell_type": "code",
   "execution_count": 57,
   "metadata": {},
   "outputs": [
    {
     "name": "stdout",
     "output_type": "stream",
     "text": [
      "Extracting MNIST-data/train-images-idx3-ubyte.gz\n",
      "Extracting MNIST-data/train-labels-idx1-ubyte.gz\n",
      "Extracting MNIST-data/t10k-images-idx3-ubyte.gz\n",
      "Extracting MNIST-data/t10k-labels-idx1-ubyte.gz\n"
     ]
    }
   ],
   "source": [
    "mnist = tf.contrib.learn.datasets.load_dataset(\"mnist\")"
   ]
  },
  {
   "cell_type": "code",
   "execution_count": 58,
   "metadata": {},
   "outputs": [],
   "source": [
    "X_train1 = mnist.train.images\n",
    "y_train1 = mnist.train.labels\n",
    "\n",
    "X_train2 = mnist.validation.images\n",
    "y_train2 = mnist.validation.labels\n",
    "\n",
    "X_test = mnist.test.images\n",
    "y_test = mnist.test.labels"
   ]
  },
  {
   "cell_type": "markdown",
   "metadata": {},
   "source": [
    "Vamos escrever uma função para gerar pares de imagens, sendo 50% da mesma classe e 50% de classes distintas\n"
   ]
  },
  {
   "cell_type": "code",
   "execution_count": 72,
   "metadata": {},
   "outputs": [],
   "source": [
    "def generate_batch(images, labels, batch_size):\n",
    "    size1 = batch_size // 2\n",
    "    size2 = batch_size - size1\n",
    "    if size1 != size2 and np.random.rand() > 0.5:\n",
    "        size1, size2 = size2, size1\n",
    "    X = []\n",
    "    y = []\n",
    "    while len(X) < size1:\n",
    "        rnd_idx1, rnd_idx2 = np.random.randint(0, len(images), 2)\n",
    "        if rnd_idx1 != rnd_idx2 and labels[rnd_idx1] == labels[rnd_idx2]:\n",
    "            X.append(np.array([images[rnd_idx1], images[rnd_idx2]]))\n",
    "            y.append([1])\n",
    "    while len(X) < batch_size:\n",
    "        rnd_idx1, rnd_idx2 = np.random.randint(0, len(images), 2)\n",
    "        if labels[rnd_idx1] != labels[rnd_idx2]:\n",
    "            X.append(np.array([images[rnd_idx1], images[rnd_idx2]]))\n",
    "            y.append([0])\n",
    "    rnd_indices = np.random.permutation(batch_size)\n",
    "    return np.array(X)[rnd_indices], np.array(y)[rnd_indices]"
   ]
  },
  {
   "cell_type": "markdown",
   "metadata": {},
   "source": [
    "vamos gerar um batch de exemplo:"
   ]
  },
  {
   "cell_type": "code",
   "execution_count": 73,
   "metadata": {},
   "outputs": [],
   "source": [
    "batch_size = 5\n",
    "X_batch, y_batch = generate_batch(X_train1, y_train1, batch_size)"
   ]
  },
  {
   "cell_type": "code",
   "execution_count": 74,
   "metadata": {},
   "outputs": [
    {
     "data": {
      "text/plain": [
       "((5, 2, 784), dtype('float32'))"
      ]
     },
     "execution_count": 74,
     "metadata": {},
     "output_type": "execute_result"
    }
   ],
   "source": [
    "X_batch.shape, X_batch.dtype"
   ]
  },
  {
   "cell_type": "code",
   "execution_count": 75,
   "metadata": {},
   "outputs": [
    {
     "data": {
      "image/png": "[encoded data removed]",
      "text/plain": [
       "<matplotlib.figure.Figure at 0x12193cba8>"
      ]
     },
     "metadata": {},
     "output_type": "display_data"
    }
   ],
   "source": [
    "plt.figure(figsize=(3, 3 * batch_size))\n",
    "plt.subplot(121)\n",
    "plt.imshow(X_batch[:,0].reshape(28 * batch_size, 28), cmap=\"binary\", interpolation=\"nearest\")\n",
    "plt.axis('off')\n",
    "plt.subplot(122)\n",
    "plt.imshow(X_batch[:,1].reshape(28 * batch_size, 28), cmap=\"binary\", interpolation=\"nearest\")\n",
    "plt.axis('off')\n",
    "plt.show()"
   ]
  },
  {
   "cell_type": "code",
   "execution_count": 76,
   "metadata": {},
   "outputs": [
    {
     "data": {
      "text/plain": [
       "array([[1],\n",
       "       [0],\n",
       "       [1],\n",
       "       [1],\n",
       "       [0]])"
      ]
     },
     "execution_count": 76,
     "metadata": {},
     "output_type": "execute_result"
    }
   ],
   "source": [
    "y_batch"
   ]
  },
  {
   "cell_type": "markdown",
   "metadata": {},
   "source": [
    "Vamos treinar nossa rede"
   ]
  },
  {
   "cell_type": "code",
   "execution_count": 77,
   "metadata": {},
   "outputs": [],
   "source": [
    "X_test1, y_test1 = generate_batch(X_test, y_test, batch_size=len(X_test))"
   ]
  },
  {
   "cell_type": "code",
   "execution_count": 80,
   "metadata": {},
   "outputs": [
    {
     "name": "stdout",
     "output_type": "stream",
     "text": [
      "0 Train loss: 0.451689\n",
      "0 Test accuracy: 0.7604\n",
      "1 Train loss: 0.409759\n",
      "2 Train loss: 0.329544\n",
      "3 Train loss: 0.251561\n",
      "4 Train loss: 0.253576\n",
      "5 Train loss: 0.240913\n",
      "5 Test accuracy: 0.908\n",
      "6 Train loss: 0.194647\n",
      "7 Train loss: 0.2049\n",
      "8 Train loss: 0.162026\n",
      "9 Train loss: 0.192288\n",
      "10 Train loss: 0.180107\n",
      "10 Test accuracy: 0.9345\n",
      "11 Train loss: 0.147522\n",
      "12 Train loss: 0.125812\n",
      "13 Train loss: 0.141168\n",
      "14 Train loss: 0.201941\n",
      "15 Train loss: 0.113482\n",
      "15 Test accuracy: 0.9457\n",
      "16 Train loss: 0.181659\n",
      "17 Train loss: 0.101065\n",
      "18 Train loss: 0.122983\n",
      "19 Train loss: 0.10227\n",
      "20 Train loss: 0.122218\n",
      "20 Test accuracy: 0.9538\n",
      "21 Train loss: 0.119919\n",
      "22 Train loss: 0.110726\n",
      "23 Train loss: 0.0623851\n",
      "24 Train loss: 0.0836266\n",
      "25 Train loss: 0.0744632\n",
      "25 Test accuracy: 0.9552\n",
      "26 Train loss: 0.0830995\n",
      "27 Train loss: 0.0828328\n",
      "28 Train loss: 0.0873375\n",
      "29 Train loss: 0.0759319\n",
      "30 Train loss: 0.0571478\n",
      "30 Test accuracy: 0.9635\n",
      "31 Train loss: 0.0604984\n",
      "32 Train loss: 0.0807575\n",
      "33 Train loss: 0.0696955\n",
      "34 Train loss: 0.0691861\n",
      "35 Train loss: 0.0520532\n",
      "35 Test accuracy: 0.9656\n",
      "36 Train loss: 0.0618176\n",
      "37 Train loss: 0.0473633\n",
      "38 Train loss: 0.0689642\n",
      "39 Train loss: 0.0559343\n",
      "40 Train loss: 0.0674646\n",
      "40 Test accuracy: 0.9668\n",
      "41 Train loss: 0.0646163\n",
      "42 Train loss: 0.0460741\n",
      "43 Train loss: 0.0650221\n",
      "44 Train loss: 0.0477211\n",
      "45 Train loss: 0.0471283\n",
      "45 Test accuracy: 0.9673\n",
      "46 Train loss: 0.0315943\n",
      "47 Train loss: 0.0366983\n",
      "48 Train loss: 0.0579268\n",
      "49 Train loss: 0.0417063\n",
      "50 Train loss: 0.0497452\n",
      "50 Test accuracy: 0.9689\n",
      "51 Train loss: 0.0537147\n",
      "52 Train loss: 0.0507989\n",
      "53 Train loss: 0.07915\n",
      "54 Train loss: 0.037005\n",
      "55 Train loss: 0.0379582\n",
      "55 Test accuracy: 0.9724\n",
      "56 Train loss: 0.042731\n",
      "57 Train loss: 0.0473236\n",
      "58 Train loss: 0.0537752\n",
      "59 Train loss: 0.0417022\n",
      "60 Train loss: 0.0438047\n",
      "60 Test accuracy: 0.9724\n",
      "61 Train loss: 0.0467484\n",
      "62 Train loss: 0.0293642\n",
      "63 Train loss: 0.0207704\n",
      "64 Train loss: 0.0518953\n",
      "65 Train loss: 0.044266\n",
      "65 Test accuracy: 0.9723\n",
      "66 Train loss: 0.0165285\n",
      "67 Train loss: 0.0452506\n",
      "68 Train loss: 0.0196215\n",
      "69 Train loss: 0.0325359\n",
      "70 Train loss: 0.0229821\n",
      "70 Test accuracy: 0.9743\n",
      "71 Train loss: 0.020623\n",
      "72 Train loss: 0.0579301\n",
      "73 Train loss: 0.0279319\n",
      "74 Train loss: 0.0194797\n",
      "75 Train loss: 0.04086\n",
      "75 Test accuracy: 0.9722\n",
      "76 Train loss: 0.0261779\n",
      "77 Train loss: 0.021407\n",
      "78 Train loss: 0.0187869\n",
      "79 Train loss: 0.0212785\n",
      "80 Train loss: 0.0204539\n",
      "80 Test accuracy: 0.9762\n",
      "81 Train loss: 0.0362233\n",
      "82 Train loss: 0.0157541\n",
      "83 Train loss: 0.023645\n",
      "84 Train loss: 0.0140412\n",
      "85 Train loss: 0.0201507\n",
      "85 Test accuracy: 0.9756\n",
      "86 Train loss: 0.0401293\n",
      "87 Train loss: 0.0166769\n",
      "88 Train loss: 0.0251853\n",
      "89 Train loss: 0.0210197\n",
      "90 Train loss: 0.0217886\n",
      "90 Test accuracy: 0.9758\n",
      "91 Train loss: 0.0115421\n",
      "92 Train loss: 0.0201638\n",
      "93 Train loss: 0.0259368\n",
      "94 Train loss: 0.0281382\n",
      "95 Train loss: 0.0142083\n",
      "95 Test accuracy: 0.9747\n",
      "96 Train loss: 0.0200869\n",
      "97 Train loss: 0.019502\n",
      "98 Train loss: 0.0172089\n",
      "99 Train loss: 0.0124171\n"
     ]
    }
   ],
   "source": [
    "n_epochs = 100\n",
    "batch_size = 500\n",
    "\n",
    "with tf.Session() as sess:\n",
    "    init.run()\n",
    "    for epoch in range(n_epochs):\n",
    "        for iteration in range(len(X_train1) // batch_size):\n",
    "            X_batch, y_batch = generate_batch(X_train1, y_train1, batch_size)\n",
    "            loss_val, _ = sess.run([loss, training_op], feed_dict={X: X_batch, y: y_batch})\n",
    "        print(epoch, \"Train loss:\", loss_val)\n",
    "        if epoch % 5 == 0:\n",
    "            acc_test = accuracy.eval(feed_dict={X: X_test1, y: y_test1})\n",
    "            print(epoch, \"Test accuracy:\", acc_test)\n",
    "    save_path = saver.save(sess, \"./my_digit_comparison_model.ckpt\")"
   ]
  },
  {
   "cell_type": "markdown",
   "metadata": {},
   "source": [
    "Conseguimos 97% de acurácia na comparação entre dois dígitos. Nada mau."
   ]
  },
  {
   "cell_type": "markdown",
   "metadata": {},
   "source": [
    "Vamos congelar as comamadas ocultas da DNNA e utiliza-la para classificarmos todos os 10 digitos"
   ]
  },
  {
   "cell_type": "code",
   "execution_count": 81,
   "metadata": {},
   "outputs": [],
   "source": [
    "tf.reset_default_graph()"
   ]
  },
  {
   "cell_type": "code",
   "execution_count": 82,
   "metadata": {},
   "outputs": [],
   "source": [
    "n_inputs = 28*28\n",
    "n_outputs = 10"
   ]
  },
  {
   "cell_type": "code",
   "execution_count": 83,
   "metadata": {},
   "outputs": [],
   "source": [
    "X = tf.placeholder(tf.float32, shape=(None, n_inputs), name=\"X\")\n",
    "y = tf.placeholder(tf.int32, shape=(None), name=\"y\")"
   ]
  },
  {
   "cell_type": "code",
   "execution_count": 85,
   "metadata": {},
   "outputs": [],
   "source": [
    "dnn_outputs = get_dnn_layers(X, name=\"DNN_A\")"
   ]
  },
  {
   "cell_type": "code",
   "execution_count": 87,
   "metadata": {},
   "outputs": [],
   "source": [
    "frozen_outputs = tf.stop_gradient(dnn_outputs)"
   ]
  },
  {
   "cell_type": "code",
   "execution_count": 88,
   "metadata": {},
   "outputs": [],
   "source": [
    "logits = fully_connected(dnn_outputs, n_outputs, weights_initializer=he_init)\n",
    "Y_proba = tf.nn.softmax(logits)"
   ]
  },
  {
   "cell_type": "code",
   "execution_count": 89,
   "metadata": {},
   "outputs": [],
   "source": [
    "xentropy = tf.nn.sparse_softmax_cross_entropy_with_logits(labels=y, logits=logits)\n",
    "loss = tf.reduce_mean(xentropy, name=\"loss\")"
   ]
  },
  {
   "cell_type": "code",
   "execution_count": 90,
   "metadata": {},
   "outputs": [],
   "source": [
    "optimizer = tf.train.MomentumOptimizer(learning_rate, momentum, use_nesterov=True)\n",
    "training_op = optimizer.minimize(loss)"
   ]
  },
  {
   "cell_type": "code",
   "execution_count": 91,
   "metadata": {},
   "outputs": [],
   "source": [
    "correct = tf.nn.in_top_k(logits, y, 1)\n",
    "accuracy = tf.reduce_mean(tf.cast(correct, tf.float32))"
   ]
  },
  {
   "cell_type": "code",
   "execution_count": 92,
   "metadata": {},
   "outputs": [],
   "source": [
    "init = tf.global_variables_initializer()\n",
    "dnn_A_vars = tf.get_collection(tf.GraphKeys.GLOBAL_VARIABLES, scope=\"DNN_A\")\n",
    "restore_saver = tf.train.Saver(var_list={var.op.name: var for var in dnn_A_vars})\n",
    "saver = tf.train.Saver()"
   ]
  },
  {
   "cell_type": "markdown",
   "metadata": {},
   "source": [
    "agora podemos carregar os valores das variáveis do nosso modelo anteror em DNN_A"
   ]
  },
  {
   "cell_type": "code",
   "execution_count": 93,
   "metadata": {},
   "outputs": [],
   "source": [
    "n_epochs = 100\n",
    "batch_size = 50"
   ]
  },
  {
   "cell_type": "code",
   "execution_count": 96,
   "metadata": {},
   "outputs": [
    {
     "name": "stdout",
     "output_type": "stream",
     "text": [
      "INFO:tensorflow:Restoring parameters from ./my_digit_comparison_model.ckpt\n",
      "0 Test accuracy: 0.9517\n",
      "10 Test accuracy: 0.9544\n",
      "20 Test accuracy: 0.9606\n",
      "30 Test accuracy: 0.9627\n",
      "40 Test accuracy: 0.961\n",
      "50 Test accuracy: 0.9606\n",
      "60 Test accuracy: 0.9601\n",
      "70 Test accuracy: 0.9595\n",
      "80 Test accuracy: 0.9589\n",
      "90 Test accuracy: 0.9605\n"
     ]
    }
   ],
   "source": [
    "with tf.Session() as sess:\n",
    "    init.run()\n",
    "    restore_saver.restore(sess, \"./my_digit_comparison_model.ckpt\")\n",
    "    \n",
    "    for epoch in range(n_epochs):\n",
    "        rnd_idx = np.random.permutation(len(X_train2))\n",
    "        for rnd_indices in np.array_split(rnd_idx, len(X_train2) // batch_size):\n",
    "            X_batch, y_batch = X_train2[rnd_indices], y_train2[rnd_indices]\n",
    "            sess.run(training_op, feed_dict={X: X_batch, y: y_batch})\n",
    "        if epoch % 10 == 0:\n",
    "            acc_test = accuracy.eval(feed_dict={X: X_test, y: y_test})\n",
    "            print(epoch, \"Test accuracy:\", acc_test)\n",
    "    \n",
    "    save_path = saver.save(sess, \"./my_mnist_model_final.ckpt\")"
   ]
  },
  {
   "cell_type": "markdown",
   "metadata": {},
   "source": [
    "96% de acurácia!\n",
    "Não é o melhor resultado que obtemos até agora para o mnist, mas vale lembrar que nesta fase estamos usando apenas 500 imagens por classe. Ou seja, conseguimos resultados muito bons com poucos exemplos por meio de transfer learning"
   ]
  },
  {
   "cell_type": "code",
   "execution_count": null,
   "metadata": {},
   "outputs": [],
   "source": []
  }
 ],
 "metadata": {
  "kernelspec": {
   "display_name": "Python 3",
   "language": "python",
   "name": "python3"
  },
  "language_info": {
   "codemirror_mode": {
    "name": "ipython",
    "version": 3
   },
   "file_extension": ".py",
   "mimetype": "text/x-python",
   "name": "python",
   "nbconvert_exporter": "python",
   "pygments_lexer": "ipython3",
   "version": "3.6.0"
  }
 },
 "nbformat": 4,
 "nbformat_minor": 2
}
